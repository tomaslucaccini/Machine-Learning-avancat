{
 "cells": [
  {
   "cell_type": "code",
   "execution_count": 52,
   "metadata": {},
   "outputs": [],
   "source": [
    "import numpy as np\n",
    "import pandas as pd\n",
    "import matplotlib.pyplot as plt\n",
    "import seaborn as sns\n",
    "\n",
    "from sklearn.model_selection import cross_val_score, train_test_split, cross_val_predict\n",
    "from sklearn.preprocessing import StandardScaler\n",
    "from sklearn.preprocessing import scale\n",
    "from sklearn.preprocessing import OneHotEncoder\n",
    "from sklearn import preprocessing\n",
    "from sklearn.compose import ColumnTransformer\n",
    "\n",
    "from sklearn.pipeline import Pipeline\n",
    "from sklearn.model_selection import GridSearchCV"
   ]
  },
  {
   "cell_type": "code",
   "execution_count": 2,
   "metadata": {},
   "outputs": [],
   "source": [
    "from sklearn.ensemble import RandomForestClassifier\n",
    "from sklearn.ensemble import RandomForestRegressor\n",
    "from sklearn.metrics import accuracy_score\n",
    "from sklearn.feature_selection import SelectKBest, VarianceThreshold\n"
   ]
  },
  {
   "cell_type": "code",
   "execution_count": 3,
   "metadata": {},
   "outputs": [],
   "source": [
    "from sklearn.metrics import classification_report, confusion_matrix"
   ]
  },
  {
   "cell_type": "markdown",
   "metadata": {},
   "source": [
    "# EJERCICIO 1"
   ]
  },
  {
   "cell_type": "markdown",
   "metadata": {},
   "source": [
    "Implementación de Pipeline y gridsearch aplicando algoritmo Random Forest"
   ]
  },
  {
   "cell_type": "markdown",
   "metadata": {},
   "source": [
    "### Carga de dataset previamente trabajado"
   ]
  },
  {
   "cell_type": "code",
   "execution_count": 4,
   "metadata": {},
   "outputs": [],
   "source": [
    "train_no_dummies_data = pd.read_csv('Delayed_Flights_no_dummies_train.csv')"
   ]
  },
  {
   "cell_type": "code",
   "execution_count": 5,
   "metadata": {},
   "outputs": [
    {
     "data": {
      "text/plain": [
       "(1542690, 20)"
      ]
     },
     "execution_count": 5,
     "metadata": {},
     "output_type": "execute_result"
    }
   ],
   "source": [
    "train_no_dummies_data.shape"
   ]
  },
  {
   "cell_type": "code",
   "execution_count": 6,
   "metadata": {},
   "outputs": [
    {
     "data": {
      "text/html": [
       "<div>\n",
       "<style scoped>\n",
       "    .dataframe tbody tr th:only-of-type {\n",
       "        vertical-align: middle;\n",
       "    }\n",
       "\n",
       "    .dataframe tbody tr th {\n",
       "        vertical-align: top;\n",
       "    }\n",
       "\n",
       "    .dataframe thead th {\n",
       "        text-align: right;\n",
       "    }\n",
       "</style>\n",
       "<table border=\"1\" class=\"dataframe\">\n",
       "  <thead>\n",
       "    <tr style=\"text-align: right;\">\n",
       "      <th></th>\n",
       "      <th>Unnamed: 0</th>\n",
       "      <th>index</th>\n",
       "      <th>DayOfWeek</th>\n",
       "      <th>FullCarrier</th>\n",
       "      <th>Origin</th>\n",
       "      <th>Dest</th>\n",
       "      <th>Cancelled</th>\n",
       "      <th>ArrDelay</th>\n",
       "      <th>CRSElapsedTime</th>\n",
       "      <th>DepDelay</th>\n",
       "      <th>ArrTime</th>\n",
       "      <th>DepTime</th>\n",
       "      <th>AirTime</th>\n",
       "      <th>Distance</th>\n",
       "      <th>AvgSpeed</th>\n",
       "      <th>10%_Delayed</th>\n",
       "      <th>ArrDelay_vs_CRSElapsedTime</th>\n",
       "      <th>Delay_level</th>\n",
       "      <th>ArrTime_Range</th>\n",
       "      <th>DepTime_Range</th>\n",
       "    </tr>\n",
       "  </thead>\n",
       "  <tbody>\n",
       "    <tr>\n",
       "      <td>0</td>\n",
       "      <td>0</td>\n",
       "      <td>140013</td>\n",
       "      <td>4</td>\n",
       "      <td>US Airways Inc.</td>\n",
       "      <td>CLT</td>\n",
       "      <td>RSW</td>\n",
       "      <td>0</td>\n",
       "      <td>-0.813406</td>\n",
       "      <td>-0.227650</td>\n",
       "      <td>-0.621157</td>\n",
       "      <td>23:53</td>\n",
       "      <td>22:09</td>\n",
       "      <td>-0.310255</td>\n",
       "      <td>-0.287766</td>\n",
       "      <td>0.165092</td>\n",
       "      <td>0</td>\n",
       "      <td>-0.689538</td>\n",
       "      <td>Not_delayed</td>\n",
       "      <td>2300-2400</td>\n",
       "      <td>2200-2259</td>\n",
       "    </tr>\n",
       "    <tr>\n",
       "      <td>1</td>\n",
       "      <td>1</td>\n",
       "      <td>950166</td>\n",
       "      <td>3</td>\n",
       "      <td>Skywest Airlines Inc.</td>\n",
       "      <td>SFO</td>\n",
       "      <td>MRY</td>\n",
       "      <td>0</td>\n",
       "      <td>1.018342</td>\n",
       "      <td>-1.238764</td>\n",
       "      <td>1.125044</td>\n",
       "      <td>21:53</td>\n",
       "      <td>21:10</td>\n",
       "      <td>-1.272228</td>\n",
       "      <td>-1.199353</td>\n",
       "      <td>-1.743096</td>\n",
       "      <td>1</td>\n",
       "      <td>2.813801</td>\n",
       "      <td>More_than40%_Delay</td>\n",
       "      <td>2100-2159</td>\n",
       "      <td>2100-2159</td>\n",
       "    </tr>\n",
       "    <tr>\n",
       "      <td>2</td>\n",
       "      <td>2</td>\n",
       "      <td>383758</td>\n",
       "      <td>1</td>\n",
       "      <td>Atlantic Southeast Airlines</td>\n",
       "      <td>DSM</td>\n",
       "      <td>ATL</td>\n",
       "      <td>0</td>\n",
       "      <td>0.137694</td>\n",
       "      <td>-0.157434</td>\n",
       "      <td>0.317661</td>\n",
       "      <td>15:18</td>\n",
       "      <td>12:25</td>\n",
       "      <td>-0.135351</td>\n",
       "      <td>-0.038518</td>\n",
       "      <td>0.524594</td>\n",
       "      <td>1</td>\n",
       "      <td>0.010178</td>\n",
       "      <td>More_than40%_Delay</td>\n",
       "      <td>1500-1559</td>\n",
       "      <td>1200-1259</td>\n",
       "    </tr>\n",
       "    <tr>\n",
       "      <td>3</td>\n",
       "      <td>3</td>\n",
       "      <td>631800</td>\n",
       "      <td>4</td>\n",
       "      <td>Delta Air Lines Inc.</td>\n",
       "      <td>BDL</td>\n",
       "      <td>ATL</td>\n",
       "      <td>0</td>\n",
       "      <td>0.560405</td>\n",
       "      <td>0.137475</td>\n",
       "      <td>0.411543</td>\n",
       "      <td>18:53</td>\n",
       "      <td>16:20</td>\n",
       "      <td>0.170731</td>\n",
       "      <td>0.163670</td>\n",
       "      <td>0.319784</td>\n",
       "      <td>1</td>\n",
       "      <td>0.179950</td>\n",
       "      <td>More_than40%_Delay</td>\n",
       "      <td>1800-1859</td>\n",
       "      <td>1600-1659</td>\n",
       "    </tr>\n",
       "    <tr>\n",
       "      <td>4</td>\n",
       "      <td>4</td>\n",
       "      <td>614256</td>\n",
       "      <td>1</td>\n",
       "      <td>Alaska Airlines Inc.</td>\n",
       "      <td>SEA</td>\n",
       "      <td>LAX</td>\n",
       "      <td>0</td>\n",
       "      <td>-0.778180</td>\n",
       "      <td>0.362167</td>\n",
       "      <td>-0.546051</td>\n",
       "      <td>09:08</td>\n",
       "      <td>06:44</td>\n",
       "      <td>0.229033</td>\n",
       "      <td>0.329255</td>\n",
       "      <td>0.635960</td>\n",
       "      <td>0</td>\n",
       "      <td>-0.654632</td>\n",
       "      <td>Not_delayed</td>\n",
       "      <td>0900-0959</td>\n",
       "      <td>0600-0659</td>\n",
       "    </tr>\n",
       "  </tbody>\n",
       "</table>\n",
       "</div>"
      ],
      "text/plain": [
       "   Unnamed: 0   index  DayOfWeek                  FullCarrier Origin Dest  \\\n",
       "0           0  140013          4              US Airways Inc.    CLT  RSW   \n",
       "1           1  950166          3        Skywest Airlines Inc.    SFO  MRY   \n",
       "2           2  383758          1  Atlantic Southeast Airlines    DSM  ATL   \n",
       "3           3  631800          4         Delta Air Lines Inc.    BDL  ATL   \n",
       "4           4  614256          1         Alaska Airlines Inc.    SEA  LAX   \n",
       "\n",
       "   Cancelled  ArrDelay  CRSElapsedTime  DepDelay ArrTime DepTime   AirTime  \\\n",
       "0          0 -0.813406       -0.227650 -0.621157   23:53   22:09 -0.310255   \n",
       "1          0  1.018342       -1.238764  1.125044   21:53   21:10 -1.272228   \n",
       "2          0  0.137694       -0.157434  0.317661   15:18   12:25 -0.135351   \n",
       "3          0  0.560405        0.137475  0.411543   18:53   16:20  0.170731   \n",
       "4          0 -0.778180        0.362167 -0.546051   09:08   06:44  0.229033   \n",
       "\n",
       "   Distance  AvgSpeed  10%_Delayed  ArrDelay_vs_CRSElapsedTime  \\\n",
       "0 -0.287766  0.165092            0                   -0.689538   \n",
       "1 -1.199353 -1.743096            1                    2.813801   \n",
       "2 -0.038518  0.524594            1                    0.010178   \n",
       "3  0.163670  0.319784            1                    0.179950   \n",
       "4  0.329255  0.635960            0                   -0.654632   \n",
       "\n",
       "          Delay_level ArrTime_Range DepTime_Range  \n",
       "0         Not_delayed     2300-2400     2200-2259  \n",
       "1  More_than40%_Delay     2100-2159     2100-2159  \n",
       "2  More_than40%_Delay     1500-1559     1200-1259  \n",
       "3  More_than40%_Delay     1800-1859     1600-1659  \n",
       "4         Not_delayed     0900-0959     0600-0659  "
      ]
     },
     "execution_count": 6,
     "metadata": {},
     "output_type": "execute_result"
    }
   ],
   "source": [
    "train_no_dummies_data.head()"
   ]
  },
  {
   "cell_type": "code",
   "execution_count": 7,
   "metadata": {},
   "outputs": [],
   "source": [
    "train_no_dummies_data.drop(columns=['Unnamed: 0', 'index'], inplace=True, axis=1)"
   ]
  },
  {
   "cell_type": "code",
   "execution_count": 8,
   "metadata": {},
   "outputs": [],
   "source": [
    "reduced_sample_train = train_no_dummies_data.copy()\n"
   ]
  },
  {
   "cell_type": "markdown",
   "metadata": {},
   "source": [
    "### Creación de muestra más pequeña para agilizar procesamiento"
   ]
  },
  {
   "cell_type": "code",
   "execution_count": 9,
   "metadata": {},
   "outputs": [],
   "source": [
    "reduced_sample_train, reduced_sample_test = train_test_split(train_no_dummies_data, test_size = 0.9, random_state=42)"
   ]
  },
  {
   "cell_type": "code",
   "execution_count": 10,
   "metadata": {},
   "outputs": [
    {
     "data": {
      "text/plain": [
       "(154269, 18)"
      ]
     },
     "execution_count": 10,
     "metadata": {},
     "output_type": "execute_result"
    }
   ],
   "source": [
    "reduced_sample_train.shape"
   ]
  },
  {
   "cell_type": "code",
   "execution_count": 11,
   "metadata": {},
   "outputs": [],
   "source": [
    "#reduced_sample_train.drop(columns=['Unnamed: 0', 'index'], inplace=True, axis=1)"
   ]
  },
  {
   "cell_type": "code",
   "execution_count": 12,
   "metadata": {},
   "outputs": [
    {
     "data": {
      "text/html": [
       "<div>\n",
       "<style scoped>\n",
       "    .dataframe tbody tr th:only-of-type {\n",
       "        vertical-align: middle;\n",
       "    }\n",
       "\n",
       "    .dataframe tbody tr th {\n",
       "        vertical-align: top;\n",
       "    }\n",
       "\n",
       "    .dataframe thead th {\n",
       "        text-align: right;\n",
       "    }\n",
       "</style>\n",
       "<table border=\"1\" class=\"dataframe\">\n",
       "  <thead>\n",
       "    <tr style=\"text-align: right;\">\n",
       "      <th></th>\n",
       "      <th>DayOfWeek</th>\n",
       "      <th>FullCarrier</th>\n",
       "      <th>Origin</th>\n",
       "      <th>Dest</th>\n",
       "      <th>Cancelled</th>\n",
       "      <th>ArrDelay</th>\n",
       "      <th>CRSElapsedTime</th>\n",
       "      <th>DepDelay</th>\n",
       "      <th>ArrTime</th>\n",
       "      <th>DepTime</th>\n",
       "      <th>AirTime</th>\n",
       "      <th>Distance</th>\n",
       "      <th>AvgSpeed</th>\n",
       "      <th>10%_Delayed</th>\n",
       "      <th>ArrDelay_vs_CRSElapsedTime</th>\n",
       "      <th>Delay_level</th>\n",
       "      <th>ArrTime_Range</th>\n",
       "      <th>DepTime_Range</th>\n",
       "    </tr>\n",
       "  </thead>\n",
       "  <tbody>\n",
       "    <tr>\n",
       "      <td>1062173</td>\n",
       "      <td>3</td>\n",
       "      <td>AirTran Airways Corporation</td>\n",
       "      <td>TPA</td>\n",
       "      <td>ATL</td>\n",
       "      <td>0</td>\n",
       "      <td>-0.320243</td>\n",
       "      <td>-0.578731</td>\n",
       "      <td>-0.564827</td>\n",
       "      <td>22:44</td>\n",
       "      <td>21:00</td>\n",
       "      <td>-0.616338</td>\n",
       "      <td>-0.625907</td>\n",
       "      <td>-0.275054</td>\n",
       "      <td>1</td>\n",
       "      <td>-0.226234</td>\n",
       "      <td>20_to_40%_Delay</td>\n",
       "      <td>2200-2259</td>\n",
       "      <td>2100-2159</td>\n",
       "    </tr>\n",
       "    <tr>\n",
       "      <td>437738</td>\n",
       "      <td>5</td>\n",
       "      <td>Southwest Airlines Co.</td>\n",
       "      <td>SAN</td>\n",
       "      <td>SJC</td>\n",
       "      <td>0</td>\n",
       "      <td>-0.690115</td>\n",
       "      <td>-0.761293</td>\n",
       "      <td>-0.602380</td>\n",
       "      <td>16:23</td>\n",
       "      <td>15:11</td>\n",
       "      <td>-0.674639</td>\n",
       "      <td>-0.606734</td>\n",
       "      <td>0.064262</td>\n",
       "      <td>0</td>\n",
       "      <td>-0.575299</td>\n",
       "      <td>Not_delayed</td>\n",
       "      <td>1600-1659</td>\n",
       "      <td>1500-1559</td>\n",
       "    </tr>\n",
       "    <tr>\n",
       "      <td>1420704</td>\n",
       "      <td>7</td>\n",
       "      <td>Expressjet Airlines Inc.</td>\n",
       "      <td>MSP</td>\n",
       "      <td>EWR</td>\n",
       "      <td>0</td>\n",
       "      <td>4.259127</td>\n",
       "      <td>0.614945</td>\n",
       "      <td>4.373352</td>\n",
       "      <td>22:47</td>\n",
       "      <td>18:41</td>\n",
       "      <td>0.753745</td>\n",
       "      <td>0.423377</td>\n",
       "      <td>-0.187320</td>\n",
       "      <td>1</td>\n",
       "      <td>1.896713</td>\n",
       "      <td>More_than40%_Delay</td>\n",
       "      <td>2200-2259</td>\n",
       "      <td>1800-1859</td>\n",
       "    </tr>\n",
       "    <tr>\n",
       "      <td>576072</td>\n",
       "      <td>7</td>\n",
       "      <td>Frontier Airlines Inc.</td>\n",
       "      <td>LAX</td>\n",
       "      <td>DEN</td>\n",
       "      <td>0</td>\n",
       "      <td>-0.654889</td>\n",
       "      <td>-0.017001</td>\n",
       "      <td>-0.583604</td>\n",
       "      <td>15:38</td>\n",
       "      <td>12:32</td>\n",
       "      <td>-0.091625</td>\n",
       "      <td>0.168899</td>\n",
       "      <td>1.083492</td>\n",
       "      <td>0</td>\n",
       "      <td>-0.575299</td>\n",
       "      <td>Not_delayed</td>\n",
       "      <td>1500-1559</td>\n",
       "      <td>1200-1259</td>\n",
       "    </tr>\n",
       "    <tr>\n",
       "      <td>684806</td>\n",
       "      <td>1</td>\n",
       "      <td>Northwest Airlines Inc.</td>\n",
       "      <td>DTW</td>\n",
       "      <td>IND</td>\n",
       "      <td>0</td>\n",
       "      <td>-0.742954</td>\n",
       "      <td>-0.845553</td>\n",
       "      <td>-0.621157</td>\n",
       "      <td>07:19</td>\n",
       "      <td>06:15</td>\n",
       "      <td>-0.995297</td>\n",
       "      <td>-0.930932</td>\n",
       "      <td>-0.497491</td>\n",
       "      <td>0</td>\n",
       "      <td>-0.635592</td>\n",
       "      <td>Not_delayed</td>\n",
       "      <td>0700-0759</td>\n",
       "      <td>0600-0659</td>\n",
       "    </tr>\n",
       "  </tbody>\n",
       "</table>\n",
       "</div>"
      ],
      "text/plain": [
       "         DayOfWeek                  FullCarrier Origin Dest  Cancelled  \\\n",
       "1062173          3  AirTran Airways Corporation    TPA  ATL          0   \n",
       "437738           5       Southwest Airlines Co.    SAN  SJC          0   \n",
       "1420704          7     Expressjet Airlines Inc.    MSP  EWR          0   \n",
       "576072           7       Frontier Airlines Inc.    LAX  DEN          0   \n",
       "684806           1      Northwest Airlines Inc.    DTW  IND          0   \n",
       "\n",
       "         ArrDelay  CRSElapsedTime  DepDelay ArrTime DepTime   AirTime  \\\n",
       "1062173 -0.320243       -0.578731 -0.564827   22:44   21:00 -0.616338   \n",
       "437738  -0.690115       -0.761293 -0.602380   16:23   15:11 -0.674639   \n",
       "1420704  4.259127        0.614945  4.373352   22:47   18:41  0.753745   \n",
       "576072  -0.654889       -0.017001 -0.583604   15:38   12:32 -0.091625   \n",
       "684806  -0.742954       -0.845553 -0.621157   07:19   06:15 -0.995297   \n",
       "\n",
       "         Distance  AvgSpeed  10%_Delayed  ArrDelay_vs_CRSElapsedTime  \\\n",
       "1062173 -0.625907 -0.275054            1                   -0.226234   \n",
       "437738  -0.606734  0.064262            0                   -0.575299   \n",
       "1420704  0.423377 -0.187320            1                    1.896713   \n",
       "576072   0.168899  1.083492            0                   -0.575299   \n",
       "684806  -0.930932 -0.497491            0                   -0.635592   \n",
       "\n",
       "                Delay_level ArrTime_Range DepTime_Range  \n",
       "1062173     20_to_40%_Delay     2200-2259     2100-2159  \n",
       "437738          Not_delayed     1600-1659     1500-1559  \n",
       "1420704  More_than40%_Delay     2200-2259     1800-1859  \n",
       "576072          Not_delayed     1500-1559     1200-1259  \n",
       "684806          Not_delayed     0700-0759     0600-0659  "
      ]
     },
     "execution_count": 12,
     "metadata": {},
     "output_type": "execute_result"
    }
   ],
   "source": [
    "reduced_sample_train.head()"
   ]
  },
  {
   "cell_type": "markdown",
   "metadata": {},
   "source": [
    "### Procesamiento de variables categóricas"
   ]
  },
  {
   "cell_type": "code",
   "execution_count": 13,
   "metadata": {},
   "outputs": [],
   "source": [
    "from sklearn import preprocessing"
   ]
  },
  {
   "cell_type": "code",
   "execution_count": 14,
   "metadata": {},
   "outputs": [],
   "source": [
    "le = preprocessing.LabelEncoder()\n",
    "columns_to_encode = ['ArrTime_Range', 'DepTime_Range', 'Delay_level']"
   ]
  },
  {
   "cell_type": "code",
   "execution_count": 15,
   "metadata": {},
   "outputs": [
    {
     "name": "stderr",
     "output_type": "stream",
     "text": [
      "C:\\Users\\tomi_\\Anaconda3\\lib\\site-packages\\pandas\\core\\frame.py:3494: SettingWithCopyWarning: \n",
      "A value is trying to be set on a copy of a slice from a DataFrame.\n",
      "Try using .loc[row_indexer,col_indexer] = value instead\n",
      "\n",
      "See the caveats in the documentation: http://pandas.pydata.org/pandas-docs/stable/user_guide/indexing.html#returning-a-view-versus-a-copy\n",
      "  self[k1] = value[k2]\n"
     ]
    }
   ],
   "source": [
    "reduced_sample_train[columns_to_encode] = reduced_sample_train[columns_to_encode].apply(le.fit_transform)\n"
   ]
  },
  {
   "cell_type": "code",
   "execution_count": 16,
   "metadata": {},
   "outputs": [
    {
     "data": {
      "text/html": [
       "<div>\n",
       "<style scoped>\n",
       "    .dataframe tbody tr th:only-of-type {\n",
       "        vertical-align: middle;\n",
       "    }\n",
       "\n",
       "    .dataframe tbody tr th {\n",
       "        vertical-align: top;\n",
       "    }\n",
       "\n",
       "    .dataframe thead th {\n",
       "        text-align: right;\n",
       "    }\n",
       "</style>\n",
       "<table border=\"1\" class=\"dataframe\">\n",
       "  <thead>\n",
       "    <tr style=\"text-align: right;\">\n",
       "      <th></th>\n",
       "      <th>DayOfWeek</th>\n",
       "      <th>FullCarrier</th>\n",
       "      <th>Origin</th>\n",
       "      <th>Dest</th>\n",
       "      <th>Cancelled</th>\n",
       "      <th>ArrDelay</th>\n",
       "      <th>CRSElapsedTime</th>\n",
       "      <th>DepDelay</th>\n",
       "      <th>ArrTime</th>\n",
       "      <th>DepTime</th>\n",
       "      <th>AirTime</th>\n",
       "      <th>Distance</th>\n",
       "      <th>AvgSpeed</th>\n",
       "      <th>10%_Delayed</th>\n",
       "      <th>ArrDelay_vs_CRSElapsedTime</th>\n",
       "      <th>Delay_level</th>\n",
       "      <th>ArrTime_Range</th>\n",
       "      <th>DepTime_Range</th>\n",
       "    </tr>\n",
       "  </thead>\n",
       "  <tbody>\n",
       "    <tr>\n",
       "      <td>1062173</td>\n",
       "      <td>3</td>\n",
       "      <td>AirTran Airways Corporation</td>\n",
       "      <td>TPA</td>\n",
       "      <td>ATL</td>\n",
       "      <td>0</td>\n",
       "      <td>-0.320243</td>\n",
       "      <td>-0.578731</td>\n",
       "      <td>-0.564827</td>\n",
       "      <td>22:44</td>\n",
       "      <td>21:00</td>\n",
       "      <td>-0.616338</td>\n",
       "      <td>-0.625907</td>\n",
       "      <td>-0.275054</td>\n",
       "      <td>1</td>\n",
       "      <td>-0.226234</td>\n",
       "      <td>1</td>\n",
       "      <td>17</td>\n",
       "      <td>16</td>\n",
       "    </tr>\n",
       "    <tr>\n",
       "      <td>437738</td>\n",
       "      <td>5</td>\n",
       "      <td>Southwest Airlines Co.</td>\n",
       "      <td>SAN</td>\n",
       "      <td>SJC</td>\n",
       "      <td>0</td>\n",
       "      <td>-0.690115</td>\n",
       "      <td>-0.761293</td>\n",
       "      <td>-0.602380</td>\n",
       "      <td>16:23</td>\n",
       "      <td>15:11</td>\n",
       "      <td>-0.674639</td>\n",
       "      <td>-0.606734</td>\n",
       "      <td>0.064262</td>\n",
       "      <td>0</td>\n",
       "      <td>-0.575299</td>\n",
       "      <td>3</td>\n",
       "      <td>11</td>\n",
       "      <td>10</td>\n",
       "    </tr>\n",
       "    <tr>\n",
       "      <td>1420704</td>\n",
       "      <td>7</td>\n",
       "      <td>Expressjet Airlines Inc.</td>\n",
       "      <td>MSP</td>\n",
       "      <td>EWR</td>\n",
       "      <td>0</td>\n",
       "      <td>4.259127</td>\n",
       "      <td>0.614945</td>\n",
       "      <td>4.373352</td>\n",
       "      <td>22:47</td>\n",
       "      <td>18:41</td>\n",
       "      <td>0.753745</td>\n",
       "      <td>0.423377</td>\n",
       "      <td>-0.187320</td>\n",
       "      <td>1</td>\n",
       "      <td>1.896713</td>\n",
       "      <td>2</td>\n",
       "      <td>17</td>\n",
       "      <td>13</td>\n",
       "    </tr>\n",
       "    <tr>\n",
       "      <td>576072</td>\n",
       "      <td>7</td>\n",
       "      <td>Frontier Airlines Inc.</td>\n",
       "      <td>LAX</td>\n",
       "      <td>DEN</td>\n",
       "      <td>0</td>\n",
       "      <td>-0.654889</td>\n",
       "      <td>-0.017001</td>\n",
       "      <td>-0.583604</td>\n",
       "      <td>15:38</td>\n",
       "      <td>12:32</td>\n",
       "      <td>-0.091625</td>\n",
       "      <td>0.168899</td>\n",
       "      <td>1.083492</td>\n",
       "      <td>0</td>\n",
       "      <td>-0.575299</td>\n",
       "      <td>3</td>\n",
       "      <td>10</td>\n",
       "      <td>7</td>\n",
       "    </tr>\n",
       "    <tr>\n",
       "      <td>684806</td>\n",
       "      <td>1</td>\n",
       "      <td>Northwest Airlines Inc.</td>\n",
       "      <td>DTW</td>\n",
       "      <td>IND</td>\n",
       "      <td>0</td>\n",
       "      <td>-0.742954</td>\n",
       "      <td>-0.845553</td>\n",
       "      <td>-0.621157</td>\n",
       "      <td>07:19</td>\n",
       "      <td>06:15</td>\n",
       "      <td>-0.995297</td>\n",
       "      <td>-0.930932</td>\n",
       "      <td>-0.497491</td>\n",
       "      <td>0</td>\n",
       "      <td>-0.635592</td>\n",
       "      <td>3</td>\n",
       "      <td>2</td>\n",
       "      <td>1</td>\n",
       "    </tr>\n",
       "  </tbody>\n",
       "</table>\n",
       "</div>"
      ],
      "text/plain": [
       "         DayOfWeek                  FullCarrier Origin Dest  Cancelled  \\\n",
       "1062173          3  AirTran Airways Corporation    TPA  ATL          0   \n",
       "437738           5       Southwest Airlines Co.    SAN  SJC          0   \n",
       "1420704          7     Expressjet Airlines Inc.    MSP  EWR          0   \n",
       "576072           7       Frontier Airlines Inc.    LAX  DEN          0   \n",
       "684806           1      Northwest Airlines Inc.    DTW  IND          0   \n",
       "\n",
       "         ArrDelay  CRSElapsedTime  DepDelay ArrTime DepTime   AirTime  \\\n",
       "1062173 -0.320243       -0.578731 -0.564827   22:44   21:00 -0.616338   \n",
       "437738  -0.690115       -0.761293 -0.602380   16:23   15:11 -0.674639   \n",
       "1420704  4.259127        0.614945  4.373352   22:47   18:41  0.753745   \n",
       "576072  -0.654889       -0.017001 -0.583604   15:38   12:32 -0.091625   \n",
       "684806  -0.742954       -0.845553 -0.621157   07:19   06:15 -0.995297   \n",
       "\n",
       "         Distance  AvgSpeed  10%_Delayed  ArrDelay_vs_CRSElapsedTime  \\\n",
       "1062173 -0.625907 -0.275054            1                   -0.226234   \n",
       "437738  -0.606734  0.064262            0                   -0.575299   \n",
       "1420704  0.423377 -0.187320            1                    1.896713   \n",
       "576072   0.168899  1.083492            0                   -0.575299   \n",
       "684806  -0.930932 -0.497491            0                   -0.635592   \n",
       "\n",
       "         Delay_level  ArrTime_Range  DepTime_Range  \n",
       "1062173            1             17             16  \n",
       "437738             3             11             10  \n",
       "1420704            2             17             13  \n",
       "576072             3             10              7  \n",
       "684806             3              2              1  "
      ]
     },
     "execution_count": 16,
     "metadata": {},
     "output_type": "execute_result"
    }
   ],
   "source": [
    "reduced_sample_train.head()"
   ]
  },
  {
   "cell_type": "code",
   "execution_count": 17,
   "metadata": {},
   "outputs": [],
   "source": [
    "#columns_to_drop_b = ['FullCarrier', 'Origin', 'Dest', 'Unnamed: 0', 'index', 'Cancelled', 'ArrDelay', 'CRSElapsedTime', 'ArrTime', 'DepTime', '10%_Delayed']"
   ]
  },
  {
   "cell_type": "code",
   "execution_count": 18,
   "metadata": {},
   "outputs": [],
   "source": [
    "#train.drop(columns = columns_to_drop_b, axis=1).head()"
   ]
  },
  {
   "cell_type": "markdown",
   "metadata": {},
   "source": [
    "### Procesamiento de variables categóricas ordinales"
   ]
  },
  {
   "cell_type": "code",
   "execution_count": 19,
   "metadata": {},
   "outputs": [],
   "source": [
    "ordinal_columns_to_encode = ['ArrTime_Range', 'DepTime_Range', 'Delay_level']"
   ]
  },
  {
   "cell_type": "code",
   "execution_count": 20,
   "metadata": {},
   "outputs": [],
   "source": [
    "reduced_sample_train[ordinal_columns_to_encode] = reduced_sample_train[ordinal_columns_to_encode].apply(le.fit_transform)"
   ]
  },
  {
   "cell_type": "code",
   "execution_count": 21,
   "metadata": {},
   "outputs": [],
   "source": [
    "data = reduced_sample_train.copy()"
   ]
  },
  {
   "cell_type": "code",
   "execution_count": 22,
   "metadata": {},
   "outputs": [],
   "source": [
    "data = pd.get_dummies(data=data, columns=['FullCarrier', 'Origin', 'Dest'])"
   ]
  },
  {
   "cell_type": "code",
   "execution_count": 23,
   "metadata": {},
   "outputs": [
    {
     "data": {
      "text/html": [
       "<div>\n",
       "<style scoped>\n",
       "    .dataframe tbody tr th:only-of-type {\n",
       "        vertical-align: middle;\n",
       "    }\n",
       "\n",
       "    .dataframe tbody tr th {\n",
       "        vertical-align: top;\n",
       "    }\n",
       "\n",
       "    .dataframe thead th {\n",
       "        text-align: right;\n",
       "    }\n",
       "</style>\n",
       "<table border=\"1\" class=\"dataframe\">\n",
       "  <thead>\n",
       "    <tr style=\"text-align: right;\">\n",
       "      <th></th>\n",
       "      <th>DayOfWeek</th>\n",
       "      <th>Cancelled</th>\n",
       "      <th>ArrDelay</th>\n",
       "      <th>CRSElapsedTime</th>\n",
       "      <th>DepDelay</th>\n",
       "      <th>ArrTime</th>\n",
       "      <th>DepTime</th>\n",
       "      <th>AirTime</th>\n",
       "      <th>Distance</th>\n",
       "      <th>AvgSpeed</th>\n",
       "      <th>...</th>\n",
       "      <th>Dest_TYR</th>\n",
       "      <th>Dest_TYS</th>\n",
       "      <th>Dest_VLD</th>\n",
       "      <th>Dest_VPS</th>\n",
       "      <th>Dest_WRG</th>\n",
       "      <th>Dest_WYS</th>\n",
       "      <th>Dest_XNA</th>\n",
       "      <th>Dest_YAK</th>\n",
       "      <th>Dest_YKM</th>\n",
       "      <th>Dest_YUM</th>\n",
       "    </tr>\n",
       "  </thead>\n",
       "  <tbody>\n",
       "    <tr>\n",
       "      <td>1062173</td>\n",
       "      <td>3</td>\n",
       "      <td>0</td>\n",
       "      <td>-0.320243</td>\n",
       "      <td>-0.578731</td>\n",
       "      <td>-0.564827</td>\n",
       "      <td>22:44</td>\n",
       "      <td>21:00</td>\n",
       "      <td>-0.616338</td>\n",
       "      <td>-0.625907</td>\n",
       "      <td>-0.275054</td>\n",
       "      <td>...</td>\n",
       "      <td>0</td>\n",
       "      <td>0</td>\n",
       "      <td>0</td>\n",
       "      <td>0</td>\n",
       "      <td>0</td>\n",
       "      <td>0</td>\n",
       "      <td>0</td>\n",
       "      <td>0</td>\n",
       "      <td>0</td>\n",
       "      <td>0</td>\n",
       "    </tr>\n",
       "    <tr>\n",
       "      <td>437738</td>\n",
       "      <td>5</td>\n",
       "      <td>0</td>\n",
       "      <td>-0.690115</td>\n",
       "      <td>-0.761293</td>\n",
       "      <td>-0.602380</td>\n",
       "      <td>16:23</td>\n",
       "      <td>15:11</td>\n",
       "      <td>-0.674639</td>\n",
       "      <td>-0.606734</td>\n",
       "      <td>0.064262</td>\n",
       "      <td>...</td>\n",
       "      <td>0</td>\n",
       "      <td>0</td>\n",
       "      <td>0</td>\n",
       "      <td>0</td>\n",
       "      <td>0</td>\n",
       "      <td>0</td>\n",
       "      <td>0</td>\n",
       "      <td>0</td>\n",
       "      <td>0</td>\n",
       "      <td>0</td>\n",
       "    </tr>\n",
       "    <tr>\n",
       "      <td>1420704</td>\n",
       "      <td>7</td>\n",
       "      <td>0</td>\n",
       "      <td>4.259127</td>\n",
       "      <td>0.614945</td>\n",
       "      <td>4.373352</td>\n",
       "      <td>22:47</td>\n",
       "      <td>18:41</td>\n",
       "      <td>0.753745</td>\n",
       "      <td>0.423377</td>\n",
       "      <td>-0.187320</td>\n",
       "      <td>...</td>\n",
       "      <td>0</td>\n",
       "      <td>0</td>\n",
       "      <td>0</td>\n",
       "      <td>0</td>\n",
       "      <td>0</td>\n",
       "      <td>0</td>\n",
       "      <td>0</td>\n",
       "      <td>0</td>\n",
       "      <td>0</td>\n",
       "      <td>0</td>\n",
       "    </tr>\n",
       "    <tr>\n",
       "      <td>576072</td>\n",
       "      <td>7</td>\n",
       "      <td>0</td>\n",
       "      <td>-0.654889</td>\n",
       "      <td>-0.017001</td>\n",
       "      <td>-0.583604</td>\n",
       "      <td>15:38</td>\n",
       "      <td>12:32</td>\n",
       "      <td>-0.091625</td>\n",
       "      <td>0.168899</td>\n",
       "      <td>1.083492</td>\n",
       "      <td>...</td>\n",
       "      <td>0</td>\n",
       "      <td>0</td>\n",
       "      <td>0</td>\n",
       "      <td>0</td>\n",
       "      <td>0</td>\n",
       "      <td>0</td>\n",
       "      <td>0</td>\n",
       "      <td>0</td>\n",
       "      <td>0</td>\n",
       "      <td>0</td>\n",
       "    </tr>\n",
       "    <tr>\n",
       "      <td>684806</td>\n",
       "      <td>1</td>\n",
       "      <td>0</td>\n",
       "      <td>-0.742954</td>\n",
       "      <td>-0.845553</td>\n",
       "      <td>-0.621157</td>\n",
       "      <td>07:19</td>\n",
       "      <td>06:15</td>\n",
       "      <td>-0.995297</td>\n",
       "      <td>-0.930932</td>\n",
       "      <td>-0.497491</td>\n",
       "      <td>...</td>\n",
       "      <td>0</td>\n",
       "      <td>0</td>\n",
       "      <td>0</td>\n",
       "      <td>0</td>\n",
       "      <td>0</td>\n",
       "      <td>0</td>\n",
       "      <td>0</td>\n",
       "      <td>0</td>\n",
       "      <td>0</td>\n",
       "      <td>0</td>\n",
       "    </tr>\n",
       "  </tbody>\n",
       "</table>\n",
       "<p>5 rows × 628 columns</p>\n",
       "</div>"
      ],
      "text/plain": [
       "         DayOfWeek  Cancelled  ArrDelay  CRSElapsedTime  DepDelay ArrTime  \\\n",
       "1062173          3          0 -0.320243       -0.578731 -0.564827   22:44   \n",
       "437738           5          0 -0.690115       -0.761293 -0.602380   16:23   \n",
       "1420704          7          0  4.259127        0.614945  4.373352   22:47   \n",
       "576072           7          0 -0.654889       -0.017001 -0.583604   15:38   \n",
       "684806           1          0 -0.742954       -0.845553 -0.621157   07:19   \n",
       "\n",
       "        DepTime   AirTime  Distance  AvgSpeed  ...  Dest_TYR  Dest_TYS  \\\n",
       "1062173   21:00 -0.616338 -0.625907 -0.275054  ...         0         0   \n",
       "437738    15:11 -0.674639 -0.606734  0.064262  ...         0         0   \n",
       "1420704   18:41  0.753745  0.423377 -0.187320  ...         0         0   \n",
       "576072    12:32 -0.091625  0.168899  1.083492  ...         0         0   \n",
       "684806    06:15 -0.995297 -0.930932 -0.497491  ...         0         0   \n",
       "\n",
       "         Dest_VLD  Dest_VPS  Dest_WRG  Dest_WYS  Dest_XNA  Dest_YAK  Dest_YKM  \\\n",
       "1062173         0         0         0         0         0         0         0   \n",
       "437738          0         0         0         0         0         0         0   \n",
       "1420704         0         0         0         0         0         0         0   \n",
       "576072          0         0         0         0         0         0         0   \n",
       "684806          0         0         0         0         0         0         0   \n",
       "\n",
       "         Dest_YUM  \n",
       "1062173         0  \n",
       "437738          0  \n",
       "1420704         0  \n",
       "576072          0  \n",
       "684806          0  \n",
       "\n",
       "[5 rows x 628 columns]"
      ]
     },
     "execution_count": 23,
     "metadata": {},
     "output_type": "execute_result"
    }
   ],
   "source": [
    "data.head()"
   ]
  },
  {
   "cell_type": "code",
   "execution_count": 24,
   "metadata": {},
   "outputs": [],
   "source": [
    "#data.drop(columns=['Unnamed: 0', 'index'], inplace=True, axis=1)"
   ]
  },
  {
   "cell_type": "markdown",
   "metadata": {},
   "source": [
    "### Separación entre Train y Test sets"
   ]
  },
  {
   "cell_type": "code",
   "execution_count": 25,
   "metadata": {},
   "outputs": [],
   "source": [
    "train, test = train_test_split(data, test_size = 0.2, random_state=42)"
   ]
  },
  {
   "cell_type": "code",
   "execution_count": 26,
   "metadata": {},
   "outputs": [
    {
     "data": {
      "text/html": [
       "<div>\n",
       "<style scoped>\n",
       "    .dataframe tbody tr th:only-of-type {\n",
       "        vertical-align: middle;\n",
       "    }\n",
       "\n",
       "    .dataframe tbody tr th {\n",
       "        vertical-align: top;\n",
       "    }\n",
       "\n",
       "    .dataframe thead th {\n",
       "        text-align: right;\n",
       "    }\n",
       "</style>\n",
       "<table border=\"1\" class=\"dataframe\">\n",
       "  <thead>\n",
       "    <tr style=\"text-align: right;\">\n",
       "      <th></th>\n",
       "      <th>DayOfWeek</th>\n",
       "      <th>Cancelled</th>\n",
       "      <th>ArrDelay</th>\n",
       "      <th>CRSElapsedTime</th>\n",
       "      <th>DepDelay</th>\n",
       "      <th>ArrTime</th>\n",
       "      <th>DepTime</th>\n",
       "      <th>AirTime</th>\n",
       "      <th>Distance</th>\n",
       "      <th>AvgSpeed</th>\n",
       "      <th>...</th>\n",
       "      <th>Dest_TYR</th>\n",
       "      <th>Dest_TYS</th>\n",
       "      <th>Dest_VLD</th>\n",
       "      <th>Dest_VPS</th>\n",
       "      <th>Dest_WRG</th>\n",
       "      <th>Dest_WYS</th>\n",
       "      <th>Dest_XNA</th>\n",
       "      <th>Dest_YAK</th>\n",
       "      <th>Dest_YKM</th>\n",
       "      <th>Dest_YUM</th>\n",
       "    </tr>\n",
       "  </thead>\n",
       "  <tbody>\n",
       "    <tr>\n",
       "      <td>747974</td>\n",
       "      <td>7</td>\n",
       "      <td>0</td>\n",
       "      <td>0.789373</td>\n",
       "      <td>-0.971942</td>\n",
       "      <td>0.956057</td>\n",
       "      <td>21:32</td>\n",
       "      <td>20:34</td>\n",
       "      <td>-0.907845</td>\n",
       "      <td>-0.768833</td>\n",
       "      <td>0.251940</td>\n",
       "      <td>...</td>\n",
       "      <td>0</td>\n",
       "      <td>0</td>\n",
       "      <td>0</td>\n",
       "      <td>0</td>\n",
       "      <td>0</td>\n",
       "      <td>0</td>\n",
       "      <td>0</td>\n",
       "      <td>0</td>\n",
       "      <td>0</td>\n",
       "      <td>0</td>\n",
       "    </tr>\n",
       "    <tr>\n",
       "      <td>896507</td>\n",
       "      <td>7</td>\n",
       "      <td>0</td>\n",
       "      <td>-0.179340</td>\n",
       "      <td>1.485627</td>\n",
       "      <td>-0.283182</td>\n",
       "      <td>13:02</td>\n",
       "      <td>10:58</td>\n",
       "      <td>1.730294</td>\n",
       "      <td>1.692278</td>\n",
       "      <td>0.608784</td>\n",
       "      <td>...</td>\n",
       "      <td>0</td>\n",
       "      <td>0</td>\n",
       "      <td>0</td>\n",
       "      <td>0</td>\n",
       "      <td>0</td>\n",
       "      <td>0</td>\n",
       "      <td>0</td>\n",
       "      <td>0</td>\n",
       "      <td>0</td>\n",
       "      <td>0</td>\n",
       "    </tr>\n",
       "    <tr>\n",
       "      <td>1525158</td>\n",
       "      <td>5</td>\n",
       "      <td>0</td>\n",
       "      <td>-0.637276</td>\n",
       "      <td>-0.494472</td>\n",
       "      <td>-0.696262</td>\n",
       "      <td>18:32</td>\n",
       "      <td>16:53</td>\n",
       "      <td>-0.514310</td>\n",
       "      <td>-0.448122</td>\n",
       "      <td>0.201919</td>\n",
       "      <td>...</td>\n",
       "      <td>0</td>\n",
       "      <td>0</td>\n",
       "      <td>0</td>\n",
       "      <td>0</td>\n",
       "      <td>0</td>\n",
       "      <td>0</td>\n",
       "      <td>0</td>\n",
       "      <td>0</td>\n",
       "      <td>0</td>\n",
       "      <td>0</td>\n",
       "    </tr>\n",
       "    <tr>\n",
       "      <td>432233</td>\n",
       "      <td>6</td>\n",
       "      <td>0</td>\n",
       "      <td>-0.637276</td>\n",
       "      <td>-0.831510</td>\n",
       "      <td>-0.639933</td>\n",
       "      <td>11:01</td>\n",
       "      <td>09:49</td>\n",
       "      <td>-0.718365</td>\n",
       "      <td>-0.676454</td>\n",
       "      <td>-0.134247</td>\n",
       "      <td>...</td>\n",
       "      <td>0</td>\n",
       "      <td>0</td>\n",
       "      <td>0</td>\n",
       "      <td>0</td>\n",
       "      <td>0</td>\n",
       "      <td>0</td>\n",
       "      <td>0</td>\n",
       "      <td>0</td>\n",
       "      <td>0</td>\n",
       "      <td>0</td>\n",
       "    </tr>\n",
       "    <tr>\n",
       "      <td>1161614</td>\n",
       "      <td>6</td>\n",
       "      <td>0</td>\n",
       "      <td>0.983116</td>\n",
       "      <td>-0.550645</td>\n",
       "      <td>1.312807</td>\n",
       "      <td>01:23</td>\n",
       "      <td>00:03</td>\n",
       "      <td>-0.645488</td>\n",
       "      <td>-0.416748</td>\n",
       "      <td>0.946229</td>\n",
       "      <td>...</td>\n",
       "      <td>0</td>\n",
       "      <td>0</td>\n",
       "      <td>0</td>\n",
       "      <td>0</td>\n",
       "      <td>0</td>\n",
       "      <td>0</td>\n",
       "      <td>0</td>\n",
       "      <td>0</td>\n",
       "      <td>0</td>\n",
       "      <td>0</td>\n",
       "    </tr>\n",
       "  </tbody>\n",
       "</table>\n",
       "<p>5 rows × 628 columns</p>\n",
       "</div>"
      ],
      "text/plain": [
       "         DayOfWeek  Cancelled  ArrDelay  CRSElapsedTime  DepDelay ArrTime  \\\n",
       "747974           7          0  0.789373       -0.971942  0.956057   21:32   \n",
       "896507           7          0 -0.179340        1.485627 -0.283182   13:02   \n",
       "1525158          5          0 -0.637276       -0.494472 -0.696262   18:32   \n",
       "432233           6          0 -0.637276       -0.831510 -0.639933   11:01   \n",
       "1161614          6          0  0.983116       -0.550645  1.312807   01:23   \n",
       "\n",
       "        DepTime   AirTime  Distance  AvgSpeed  ...  Dest_TYR  Dest_TYS  \\\n",
       "747974    20:34 -0.907845 -0.768833  0.251940  ...         0         0   \n",
       "896507    10:58  1.730294  1.692278  0.608784  ...         0         0   \n",
       "1525158   16:53 -0.514310 -0.448122  0.201919  ...         0         0   \n",
       "432233    09:49 -0.718365 -0.676454 -0.134247  ...         0         0   \n",
       "1161614   00:03 -0.645488 -0.416748  0.946229  ...         0         0   \n",
       "\n",
       "         Dest_VLD  Dest_VPS  Dest_WRG  Dest_WYS  Dest_XNA  Dest_YAK  Dest_YKM  \\\n",
       "747974          0         0         0         0         0         0         0   \n",
       "896507          0         0         0         0         0         0         0   \n",
       "1525158         0         0         0         0         0         0         0   \n",
       "432233          0         0         0         0         0         0         0   \n",
       "1161614         0         0         0         0         0         0         0   \n",
       "\n",
       "         Dest_YUM  \n",
       "747974          0  \n",
       "896507          0  \n",
       "1525158         0  \n",
       "432233          0  \n",
       "1161614         0  \n",
       "\n",
       "[5 rows x 628 columns]"
      ]
     },
     "execution_count": 26,
     "metadata": {},
     "output_type": "execute_result"
    }
   ],
   "source": [
    "train.head()"
   ]
  },
  {
   "cell_type": "code",
   "execution_count": 27,
   "metadata": {},
   "outputs": [
    {
     "data": {
      "text/plain": [
       "30854"
      ]
     },
     "execution_count": 27,
     "metadata": {},
     "output_type": "execute_result"
    }
   ],
   "source": [
    "len(test)"
   ]
  },
  {
   "cell_type": "code",
   "execution_count": 28,
   "metadata": {},
   "outputs": [
    {
     "data": {
      "text/plain": [
       "['DayOfWeek',\n",
       " 'Cancelled',\n",
       " 'ArrDelay',\n",
       " 'CRSElapsedTime',\n",
       " 'DepDelay',\n",
       " 'ArrTime',\n",
       " 'DepTime',\n",
       " 'AirTime',\n",
       " 'Distance',\n",
       " 'AvgSpeed',\n",
       " '10%_Delayed',\n",
       " 'ArrDelay_vs_CRSElapsedTime',\n",
       " 'Delay_level',\n",
       " 'ArrTime_Range',\n",
       " 'DepTime_Range',\n",
       " 'FullCarrier_AirTran Airways Corporation',\n",
       " 'FullCarrier_Alaska Airlines Inc.',\n",
       " 'FullCarrier_Aloha Airlines Inc.',\n",
       " 'FullCarrier_American Airlines Inc.',\n",
       " 'FullCarrier_American Eagle Airlines Inc.',\n",
       " 'FullCarrier_Atlantic Southeast Airlines',\n",
       " 'FullCarrier_Comair Inc.',\n",
       " 'FullCarrier_Continental Air Lines Inc.',\n",
       " 'FullCarrier_Delta Air Lines Inc.',\n",
       " 'FullCarrier_Expressjet Airlines Inc.',\n",
       " 'FullCarrier_Frontier Airlines Inc.',\n",
       " 'FullCarrier_Hawaiian Airlines Inc.',\n",
       " 'FullCarrier_JetBlue Airways',\n",
       " 'FullCarrier_Mesa Airlines Inc.',\n",
       " 'FullCarrier_Northwest Airlines Inc.',\n",
       " 'FullCarrier_Pinnacle Airlines Inc.',\n",
       " 'FullCarrier_Skywest Airlines Inc.',\n",
       " 'FullCarrier_Southwest Airlines Co.',\n",
       " 'FullCarrier_US Airways Inc.',\n",
       " 'FullCarrier_United Air Lines Inc.',\n",
       " 'Origin_ABE',\n",
       " 'Origin_ABI',\n",
       " 'Origin_ABQ',\n",
       " 'Origin_ABY',\n",
       " 'Origin_ACK',\n",
       " 'Origin_ACT',\n",
       " 'Origin_ACV',\n",
       " 'Origin_ADK',\n",
       " 'Origin_ADQ',\n",
       " 'Origin_AEX',\n",
       " 'Origin_AGS',\n",
       " 'Origin_AKN',\n",
       " 'Origin_ALB',\n",
       " 'Origin_ALO',\n",
       " 'Origin_AMA',\n",
       " 'Origin_ANC',\n",
       " 'Origin_ASE',\n",
       " 'Origin_ATL',\n",
       " 'Origin_ATW',\n",
       " 'Origin_AUS',\n",
       " 'Origin_AVL',\n",
       " 'Origin_AVP',\n",
       " 'Origin_AZO',\n",
       " 'Origin_BDL',\n",
       " 'Origin_BET',\n",
       " 'Origin_BFL',\n",
       " 'Origin_BGM',\n",
       " 'Origin_BGR',\n",
       " 'Origin_BHM',\n",
       " 'Origin_BIL',\n",
       " 'Origin_BIS',\n",
       " 'Origin_BMI',\n",
       " 'Origin_BNA',\n",
       " 'Origin_BOI',\n",
       " 'Origin_BOS',\n",
       " 'Origin_BPT',\n",
       " 'Origin_BQK',\n",
       " 'Origin_BQN',\n",
       " 'Origin_BRO',\n",
       " 'Origin_BRW',\n",
       " 'Origin_BTM',\n",
       " 'Origin_BTR',\n",
       " 'Origin_BTV',\n",
       " 'Origin_BUF',\n",
       " 'Origin_BUR',\n",
       " 'Origin_BWI',\n",
       " 'Origin_BZN',\n",
       " 'Origin_CAE',\n",
       " 'Origin_CAK',\n",
       " 'Origin_CDC',\n",
       " 'Origin_CDV',\n",
       " 'Origin_CEC',\n",
       " 'Origin_CHA',\n",
       " 'Origin_CHO',\n",
       " 'Origin_CHS',\n",
       " 'Origin_CIC',\n",
       " 'Origin_CID',\n",
       " 'Origin_CLD',\n",
       " 'Origin_CLE',\n",
       " 'Origin_CLL',\n",
       " 'Origin_CLT',\n",
       " 'Origin_CMH',\n",
       " 'Origin_CMI',\n",
       " 'Origin_CMX',\n",
       " 'Origin_COD',\n",
       " 'Origin_COS',\n",
       " 'Origin_CPR',\n",
       " 'Origin_CRP',\n",
       " 'Origin_CRW',\n",
       " 'Origin_CSG',\n",
       " 'Origin_CVG',\n",
       " 'Origin_CWA',\n",
       " 'Origin_DAB',\n",
       " 'Origin_DAL',\n",
       " 'Origin_DAY',\n",
       " 'Origin_DBQ',\n",
       " 'Origin_DCA',\n",
       " 'Origin_DEN',\n",
       " 'Origin_DFW',\n",
       " 'Origin_DHN',\n",
       " 'Origin_DLG',\n",
       " 'Origin_DLH',\n",
       " 'Origin_DRO',\n",
       " 'Origin_DSM',\n",
       " 'Origin_DTW',\n",
       " 'Origin_EGE',\n",
       " 'Origin_EKO',\n",
       " 'Origin_ELM',\n",
       " 'Origin_ELP',\n",
       " 'Origin_ERI',\n",
       " 'Origin_EUG',\n",
       " 'Origin_EVV',\n",
       " 'Origin_EWN',\n",
       " 'Origin_EWR',\n",
       " 'Origin_EYW',\n",
       " 'Origin_FAI',\n",
       " 'Origin_FAR',\n",
       " 'Origin_FAT',\n",
       " 'Origin_FAY',\n",
       " 'Origin_FCA',\n",
       " 'Origin_FLG',\n",
       " 'Origin_FLL',\n",
       " 'Origin_FLO',\n",
       " 'Origin_FNT',\n",
       " 'Origin_FSD',\n",
       " 'Origin_FSM',\n",
       " 'Origin_FWA',\n",
       " 'Origin_GCC',\n",
       " 'Origin_GEG',\n",
       " 'Origin_GFK',\n",
       " 'Origin_GGG',\n",
       " 'Origin_GJT',\n",
       " 'Origin_GNV',\n",
       " 'Origin_GPT',\n",
       " 'Origin_GRB',\n",
       " 'Origin_GRK',\n",
       " 'Origin_GRR',\n",
       " 'Origin_GSO',\n",
       " 'Origin_GSP',\n",
       " 'Origin_GST',\n",
       " 'Origin_GTF',\n",
       " 'Origin_GTR',\n",
       " 'Origin_GUC',\n",
       " 'Origin_HDN',\n",
       " 'Origin_HHH',\n",
       " 'Origin_HLN',\n",
       " 'Origin_HNL',\n",
       " 'Origin_HOU',\n",
       " 'Origin_HPN',\n",
       " 'Origin_HRL',\n",
       " 'Origin_HSV',\n",
       " 'Origin_IAD',\n",
       " 'Origin_IAH',\n",
       " 'Origin_ICT',\n",
       " 'Origin_IDA',\n",
       " 'Origin_ILM',\n",
       " 'Origin_IND',\n",
       " 'Origin_INL',\n",
       " 'Origin_IPL',\n",
       " 'Origin_ISP',\n",
       " 'Origin_ITH',\n",
       " 'Origin_ITO',\n",
       " 'Origin_IYK',\n",
       " 'Origin_JAC',\n",
       " 'Origin_JAN',\n",
       " 'Origin_JAX',\n",
       " 'Origin_JFK',\n",
       " 'Origin_JNU',\n",
       " 'Origin_KOA',\n",
       " 'Origin_KTN',\n",
       " 'Origin_LAN',\n",
       " 'Origin_LAS',\n",
       " 'Origin_LAW',\n",
       " 'Origin_LAX',\n",
       " 'Origin_LBB',\n",
       " 'Origin_LCH',\n",
       " 'Origin_LEX',\n",
       " 'Origin_LFT',\n",
       " 'Origin_LGA',\n",
       " 'Origin_LGB',\n",
       " 'Origin_LIH',\n",
       " 'Origin_LIT',\n",
       " 'Origin_LMT',\n",
       " 'Origin_LNK',\n",
       " 'Origin_LRD',\n",
       " 'Origin_LSE',\n",
       " 'Origin_LWB',\n",
       " 'Origin_LWS',\n",
       " 'Origin_LYH',\n",
       " 'Origin_MAF',\n",
       " 'Origin_MBS',\n",
       " 'Origin_MCI',\n",
       " 'Origin_MCN',\n",
       " 'Origin_MCO',\n",
       " 'Origin_MDT',\n",
       " 'Origin_MDW',\n",
       " 'Origin_MEI',\n",
       " 'Origin_MEM',\n",
       " 'Origin_MFE',\n",
       " 'Origin_MFR',\n",
       " 'Origin_MGM',\n",
       " 'Origin_MHT',\n",
       " 'Origin_MIA',\n",
       " 'Origin_MKE',\n",
       " 'Origin_MKG',\n",
       " 'Origin_MLB',\n",
       " 'Origin_MLI',\n",
       " 'Origin_MLU',\n",
       " 'Origin_MOB',\n",
       " 'Origin_MOD',\n",
       " 'Origin_MOT',\n",
       " 'Origin_MQT',\n",
       " 'Origin_MRY',\n",
       " 'Origin_MSN',\n",
       " 'Origin_MSO',\n",
       " 'Origin_MSP',\n",
       " 'Origin_MSY',\n",
       " 'Origin_MTJ',\n",
       " 'Origin_MYR',\n",
       " 'Origin_OAJ',\n",
       " 'Origin_OAK',\n",
       " 'Origin_OGG',\n",
       " 'Origin_OKC',\n",
       " 'Origin_OMA',\n",
       " 'Origin_OME',\n",
       " 'Origin_ONT',\n",
       " 'Origin_ORD',\n",
       " 'Origin_ORF',\n",
       " 'Origin_OTH',\n",
       " 'Origin_OTZ',\n",
       " 'Origin_OXR',\n",
       " 'Origin_PBI',\n",
       " 'Origin_PDX',\n",
       " 'Origin_PFN',\n",
       " 'Origin_PHF',\n",
       " 'Origin_PHL',\n",
       " 'Origin_PHX',\n",
       " 'Origin_PIA',\n",
       " 'Origin_PIH',\n",
       " 'Origin_PIT',\n",
       " 'Origin_PMD',\n",
       " 'Origin_PNS',\n",
       " 'Origin_PSC',\n",
       " 'Origin_PSE',\n",
       " 'Origin_PSG',\n",
       " 'Origin_PSP',\n",
       " 'Origin_PVD',\n",
       " 'Origin_PWM',\n",
       " 'Origin_RAP',\n",
       " 'Origin_RDD',\n",
       " 'Origin_RDM',\n",
       " 'Origin_RDU',\n",
       " 'Origin_RFD',\n",
       " 'Origin_RHI',\n",
       " 'Origin_RIC',\n",
       " 'Origin_RKS',\n",
       " 'Origin_RNO',\n",
       " 'Origin_ROA',\n",
       " 'Origin_ROC',\n",
       " 'Origin_ROW',\n",
       " 'Origin_RST',\n",
       " 'Origin_RSW',\n",
       " 'Origin_SAN',\n",
       " 'Origin_SAT',\n",
       " 'Origin_SAV',\n",
       " 'Origin_SBA',\n",
       " 'Origin_SBN',\n",
       " 'Origin_SBP',\n",
       " 'Origin_SCC',\n",
       " 'Origin_SCE',\n",
       " 'Origin_SDF',\n",
       " 'Origin_SEA',\n",
       " 'Origin_SFO',\n",
       " 'Origin_SGF',\n",
       " 'Origin_SGU',\n",
       " 'Origin_SHV',\n",
       " 'Origin_SIT',\n",
       " 'Origin_SJC',\n",
       " 'Origin_SJT',\n",
       " 'Origin_SJU',\n",
       " 'Origin_SLC',\n",
       " 'Origin_SLE',\n",
       " 'Origin_SMF',\n",
       " 'Origin_SMX',\n",
       " 'Origin_SNA',\n",
       " 'Origin_SPI',\n",
       " 'Origin_SPS',\n",
       " 'Origin_SRQ',\n",
       " 'Origin_STL',\n",
       " 'Origin_STT',\n",
       " 'Origin_STX',\n",
       " 'Origin_SUN',\n",
       " 'Origin_SUX',\n",
       " 'Origin_SWF',\n",
       " 'Origin_SYR',\n",
       " 'Origin_TEX',\n",
       " 'Origin_TLH',\n",
       " 'Origin_TOL',\n",
       " 'Origin_TPA',\n",
       " 'Origin_TRI',\n",
       " 'Origin_TUL',\n",
       " 'Origin_TUS',\n",
       " 'Origin_TVC',\n",
       " 'Origin_TWF',\n",
       " 'Origin_TXK',\n",
       " 'Origin_TYR',\n",
       " 'Origin_TYS',\n",
       " 'Origin_VLD',\n",
       " 'Origin_VPS',\n",
       " 'Origin_WRG',\n",
       " 'Origin_XNA',\n",
       " 'Origin_YAK',\n",
       " 'Origin_YKM',\n",
       " 'Origin_YUM',\n",
       " 'Dest_ABE',\n",
       " 'Dest_ABI',\n",
       " 'Dest_ABQ',\n",
       " 'Dest_ABY',\n",
       " 'Dest_ACK',\n",
       " 'Dest_ACT',\n",
       " 'Dest_ACV',\n",
       " 'Dest_ACY',\n",
       " 'Dest_ADK',\n",
       " 'Dest_ADQ',\n",
       " 'Dest_AEX',\n",
       " 'Dest_AGS',\n",
       " 'Dest_AKN',\n",
       " 'Dest_ALB',\n",
       " 'Dest_ALO',\n",
       " 'Dest_AMA',\n",
       " 'Dest_ANC',\n",
       " 'Dest_ASE',\n",
       " 'Dest_ATL',\n",
       " 'Dest_ATW',\n",
       " 'Dest_AUS',\n",
       " 'Dest_AVL',\n",
       " 'Dest_AVP',\n",
       " 'Dest_AZO',\n",
       " 'Dest_BDL',\n",
       " 'Dest_BET',\n",
       " 'Dest_BFL',\n",
       " 'Dest_BGM',\n",
       " 'Dest_BGR',\n",
       " 'Dest_BHM',\n",
       " 'Dest_BIL',\n",
       " 'Dest_BIS',\n",
       " 'Dest_BJI',\n",
       " 'Dest_BLI',\n",
       " 'Dest_BMI',\n",
       " 'Dest_BNA',\n",
       " 'Dest_BOI',\n",
       " 'Dest_BOS',\n",
       " 'Dest_BPT',\n",
       " 'Dest_BQK',\n",
       " 'Dest_BQN',\n",
       " 'Dest_BRO',\n",
       " 'Dest_BRW',\n",
       " 'Dest_BTM',\n",
       " 'Dest_BTR',\n",
       " 'Dest_BTV',\n",
       " 'Dest_BUF',\n",
       " 'Dest_BUR',\n",
       " 'Dest_BWI',\n",
       " 'Dest_BZN',\n",
       " 'Dest_CAE',\n",
       " 'Dest_CAK',\n",
       " 'Dest_CDC',\n",
       " 'Dest_CDV',\n",
       " 'Dest_CEC',\n",
       " 'Dest_CHA',\n",
       " 'Dest_CHO',\n",
       " 'Dest_CHS',\n",
       " 'Dest_CIC',\n",
       " 'Dest_CID',\n",
       " 'Dest_CLD',\n",
       " 'Dest_CLE',\n",
       " 'Dest_CLL',\n",
       " 'Dest_CLT',\n",
       " 'Dest_CMH',\n",
       " 'Dest_CMI',\n",
       " 'Dest_CMX',\n",
       " 'Dest_COD',\n",
       " 'Dest_COS',\n",
       " 'Dest_CPR',\n",
       " 'Dest_CRP',\n",
       " 'Dest_CRW',\n",
       " 'Dest_CSG',\n",
       " 'Dest_CVG',\n",
       " 'Dest_CWA',\n",
       " 'Dest_DAB',\n",
       " 'Dest_DAL',\n",
       " 'Dest_DAY',\n",
       " 'Dest_DBQ',\n",
       " 'Dest_DCA',\n",
       " 'Dest_DEN',\n",
       " 'Dest_DFW',\n",
       " 'Dest_DHN',\n",
       " 'Dest_DLG',\n",
       " 'Dest_DLH',\n",
       " 'Dest_DRO',\n",
       " 'Dest_DSM',\n",
       " 'Dest_DTW',\n",
       " 'Dest_EGE',\n",
       " 'Dest_EKO',\n",
       " 'Dest_ELM',\n",
       " 'Dest_ELP',\n",
       " 'Dest_ERI',\n",
       " 'Dest_EUG',\n",
       " 'Dest_EVV',\n",
       " 'Dest_EWN',\n",
       " 'Dest_EWR',\n",
       " 'Dest_EYW',\n",
       " 'Dest_FAI',\n",
       " 'Dest_FAR',\n",
       " 'Dest_FAT',\n",
       " 'Dest_FAY',\n",
       " 'Dest_FCA',\n",
       " 'Dest_FLG',\n",
       " 'Dest_FLL',\n",
       " 'Dest_FLO',\n",
       " 'Dest_FNT',\n",
       " 'Dest_FSD',\n",
       " 'Dest_FSM',\n",
       " 'Dest_FWA',\n",
       " 'Dest_GCC',\n",
       " 'Dest_GEG',\n",
       " 'Dest_GFK',\n",
       " 'Dest_GGG',\n",
       " 'Dest_GJT',\n",
       " 'Dest_GNV',\n",
       " 'Dest_GPT',\n",
       " 'Dest_GRB',\n",
       " 'Dest_GRK',\n",
       " 'Dest_GRR',\n",
       " 'Dest_GSO',\n",
       " 'Dest_GSP',\n",
       " 'Dest_GST',\n",
       " 'Dest_GTF',\n",
       " 'Dest_GTR',\n",
       " 'Dest_GUC',\n",
       " 'Dest_HDN',\n",
       " 'Dest_HHH',\n",
       " 'Dest_HLN',\n",
       " 'Dest_HNL',\n",
       " 'Dest_HOU',\n",
       " 'Dest_HPN',\n",
       " 'Dest_HRL',\n",
       " 'Dest_HSV',\n",
       " 'Dest_HTS',\n",
       " 'Dest_IAD',\n",
       " 'Dest_IAH',\n",
       " 'Dest_ICT',\n",
       " 'Dest_IDA',\n",
       " 'Dest_ILM',\n",
       " 'Dest_IND',\n",
       " 'Dest_INL',\n",
       " 'Dest_IPL',\n",
       " 'Dest_ISP',\n",
       " 'Dest_ITO',\n",
       " 'Dest_IYK',\n",
       " 'Dest_JAC',\n",
       " 'Dest_JAN',\n",
       " 'Dest_JAX',\n",
       " 'Dest_JFK',\n",
       " 'Dest_JNU',\n",
       " 'Dest_KOA',\n",
       " 'Dest_KTN',\n",
       " 'Dest_LAN',\n",
       " 'Dest_LAS',\n",
       " 'Dest_LAW',\n",
       " 'Dest_LAX',\n",
       " 'Dest_LBB',\n",
       " 'Dest_LCH',\n",
       " 'Dest_LEX',\n",
       " 'Dest_LFT',\n",
       " 'Dest_LGA',\n",
       " 'Dest_LGB',\n",
       " 'Dest_LIH',\n",
       " 'Dest_LIT',\n",
       " 'Dest_LMT',\n",
       " 'Dest_LNK',\n",
       " 'Dest_LRD',\n",
       " 'Dest_LSE',\n",
       " 'Dest_LWB',\n",
       " 'Dest_LWS',\n",
       " 'Dest_LYH',\n",
       " 'Dest_MAF',\n",
       " 'Dest_MBS',\n",
       " 'Dest_MCI',\n",
       " 'Dest_MCN',\n",
       " 'Dest_MCO',\n",
       " 'Dest_MDT',\n",
       " 'Dest_MDW',\n",
       " 'Dest_MEI',\n",
       " 'Dest_MEM',\n",
       " 'Dest_MFE',\n",
       " 'Dest_MFR',\n",
       " 'Dest_MGM',\n",
       " 'Dest_MHT',\n",
       " 'Dest_MIA',\n",
       " 'Dest_MKE',\n",
       " 'Dest_MKG',\n",
       " 'Dest_MLB',\n",
       " 'Dest_MLI',\n",
       " 'Dest_MLU',\n",
       " 'Dest_MOB',\n",
       " 'Dest_MOD',\n",
       " 'Dest_MOT',\n",
       " 'Dest_MQT',\n",
       " 'Dest_MRY',\n",
       " 'Dest_MSN',\n",
       " 'Dest_MSO',\n",
       " 'Dest_MSP',\n",
       " 'Dest_MSY',\n",
       " 'Dest_MTJ',\n",
       " 'Dest_MYR',\n",
       " 'Dest_OAJ',\n",
       " 'Dest_OAK',\n",
       " 'Dest_OGG',\n",
       " 'Dest_OKC',\n",
       " 'Dest_OMA',\n",
       " 'Dest_OME',\n",
       " 'Dest_ONT',\n",
       " 'Dest_ORD',\n",
       " 'Dest_ORF',\n",
       " 'Dest_OTH',\n",
       " 'Dest_OTZ',\n",
       " 'Dest_OXR',\n",
       " 'Dest_PBI',\n",
       " 'Dest_PDX',\n",
       " 'Dest_PFN',\n",
       " 'Dest_PHF',\n",
       " 'Dest_PHL',\n",
       " 'Dest_PHX',\n",
       " 'Dest_PIA',\n",
       " 'Dest_PIH',\n",
       " 'Dest_PIT',\n",
       " 'Dest_PLN',\n",
       " 'Dest_PMD',\n",
       " 'Dest_PNS',\n",
       " 'Dest_PSC',\n",
       " 'Dest_PSE',\n",
       " 'Dest_PSG',\n",
       " 'Dest_PSP',\n",
       " 'Dest_PVD',\n",
       " 'Dest_PWM',\n",
       " 'Dest_RAP',\n",
       " 'Dest_RDD',\n",
       " 'Dest_RDM',\n",
       " 'Dest_RDU',\n",
       " 'Dest_RFD',\n",
       " 'Dest_RHI',\n",
       " 'Dest_RIC',\n",
       " 'Dest_RKS',\n",
       " 'Dest_RNO',\n",
       " 'Dest_ROA',\n",
       " 'Dest_ROC',\n",
       " 'Dest_ROW',\n",
       " 'Dest_RST',\n",
       " 'Dest_RSW',\n",
       " 'Dest_SAN',\n",
       " 'Dest_SAT',\n",
       " 'Dest_SAV',\n",
       " 'Dest_SBA',\n",
       " 'Dest_SBN',\n",
       " 'Dest_SBP',\n",
       " 'Dest_SCC',\n",
       " 'Dest_SCE',\n",
       " 'Dest_SDF',\n",
       " 'Dest_SEA',\n",
       " 'Dest_SFO',\n",
       " 'Dest_SGF',\n",
       " 'Dest_SGU',\n",
       " 'Dest_SHV',\n",
       " 'Dest_SIT',\n",
       " 'Dest_SJC',\n",
       " 'Dest_SJT',\n",
       " 'Dest_SJU',\n",
       " 'Dest_SLC',\n",
       " 'Dest_SLE',\n",
       " 'Dest_SMF',\n",
       " 'Dest_SMX',\n",
       " 'Dest_SNA',\n",
       " 'Dest_SPI',\n",
       " 'Dest_SPS',\n",
       " 'Dest_SRQ',\n",
       " 'Dest_STL',\n",
       " 'Dest_STT',\n",
       " 'Dest_STX',\n",
       " 'Dest_SUN',\n",
       " 'Dest_SUX',\n",
       " 'Dest_SWF',\n",
       " 'Dest_SYR',\n",
       " 'Dest_TEX',\n",
       " 'Dest_TLH',\n",
       " 'Dest_TOL',\n",
       " 'Dest_TPA',\n",
       " 'Dest_TRI',\n",
       " 'Dest_TUL',\n",
       " 'Dest_TUS',\n",
       " 'Dest_TVC',\n",
       " 'Dest_TWF',\n",
       " 'Dest_TXK',\n",
       " 'Dest_TYR',\n",
       " 'Dest_TYS',\n",
       " 'Dest_VLD',\n",
       " 'Dest_VPS',\n",
       " 'Dest_WRG',\n",
       " 'Dest_WYS',\n",
       " 'Dest_XNA',\n",
       " 'Dest_YAK',\n",
       " 'Dest_YKM',\n",
       " 'Dest_YUM']"
      ]
     },
     "execution_count": 28,
     "metadata": {},
     "output_type": "execute_result"
    }
   ],
   "source": [
    "list(train.columns)"
   ]
  },
  {
   "cell_type": "markdown",
   "metadata": {},
   "source": [
    "### Preparación de X e y"
   ]
  },
  {
   "cell_type": "code",
   "execution_count": 29,
   "metadata": {},
   "outputs": [],
   "source": [
    "columns_to_drop_X = ['ArrTime', 'ArrDelay', 'DepTime', '10%_Delayed', 'ArrDelay_vs_CRSElapsedTime', 'Delay_level']"
   ]
  },
  {
   "cell_type": "code",
   "execution_count": 30,
   "metadata": {},
   "outputs": [],
   "source": [
    "X_train = train.drop(columns=columns_to_drop_X, axis=1).values"
   ]
  },
  {
   "cell_type": "code",
   "execution_count": 31,
   "metadata": {},
   "outputs": [],
   "source": [
    "y_train = train['10%_Delayed'].values"
   ]
  },
  {
   "cell_type": "code",
   "execution_count": 32,
   "metadata": {},
   "outputs": [],
   "source": [
    "X_test = test.drop(columns=columns_to_drop_X, axis=1).values"
   ]
  },
  {
   "cell_type": "code",
   "execution_count": 33,
   "metadata": {},
   "outputs": [],
   "source": [
    "y_test = test['10%_Delayed'].values"
   ]
  },
  {
   "cell_type": "markdown",
   "metadata": {},
   "source": [
    "### Definición de Modelo Random Forest"
   ]
  },
  {
   "cell_type": "code",
   "execution_count": 34,
   "metadata": {},
   "outputs": [],
   "source": [
    "from sklearn.ensemble import RandomForestClassifier\n",
    "from sklearn.ensemble import RandomForestRegressor"
   ]
  },
  {
   "cell_type": "code",
   "execution_count": 35,
   "metadata": {},
   "outputs": [
    {
     "data": {
      "text/plain": [
       "RandomForestClassifier(n_estimators=10, random_state=32)"
      ]
     },
     "execution_count": 35,
     "metadata": {},
     "output_type": "execute_result"
    }
   ],
   "source": [
    "# RandomForestClassifier with 10 trees and fitted on the small feature set \n",
    "rfc = RandomForestClassifier(n_estimators = 10, random_state=32) \n",
    "rfc.fit(X_train, y_train)"
   ]
  },
  {
   "cell_type": "code",
   "execution_count": 36,
   "metadata": {},
   "outputs": [],
   "source": [
    "# Create Decision Tree classifer object\n",
    "rfc = RandomForestClassifier(n_estimators = 10, random_state=32)\n",
    "\n",
    "# Train Decision Tree Classifer\n",
    "rfc = rfc.fit(X_train,y_train)\n",
    "\n",
    "#Predict the response for test dataset\n",
    "y_pred_rfc = rfc.predict(X_test)\n"
   ]
  },
  {
   "cell_type": "code",
   "execution_count": 37,
   "metadata": {},
   "outputs": [],
   "source": [
    "from sklearn.metrics import classification_report, confusion_matrix"
   ]
  },
  {
   "cell_type": "code",
   "execution_count": 38,
   "metadata": {},
   "outputs": [
    {
     "name": "stdout",
     "output_type": "stream",
     "text": [
      "Evaluación calidad Modelo\n",
      "---------------------------\n",
      "---------------------------\n",
      "Confusion Matrix\n",
      "---------------------------\n",
      "---------------------------\n",
      "[[ 7685  2003]\n",
      " [ 2386 18780]]\n",
      "---------------------------\n",
      "---------------------------\n",
      "Classif Report\n",
      "---------------------------\n",
      "---------------------------\n",
      "              precision    recall  f1-score   support\n",
      "\n",
      "           0       0.76      0.79      0.78      9688\n",
      "           1       0.90      0.89      0.90     21166\n",
      "\n",
      "    accuracy                           0.86     30854\n",
      "   macro avg       0.83      0.84      0.84     30854\n",
      "weighted avg       0.86      0.86      0.86     30854\n",
      "\n"
     ]
    }
   ],
   "source": [
    "print('Evaluación calidad Modelo')\n",
    "print('---------------------------')\n",
    "print('---------------------------')\n",
    "print('Confusion Matrix')\n",
    "print('---------------------------')\n",
    "print('---------------------------')\n",
    "print(confusion_matrix(y_test, y_pred_rfc))\n",
    "print('---------------------------')\n",
    "print('---------------------------')\n",
    "print('Classif Report')\n",
    "print('---------------------------')\n",
    "print('---------------------------')\n",
    "print(classification_report(y_test, y_pred_rfc))"
   ]
  },
  {
   "cell_type": "markdown",
   "metadata": {},
   "source": [
    "### importancia de las variables"
   ]
  },
  {
   "cell_type": "code",
   "execution_count": 39,
   "metadata": {},
   "outputs": [
    {
     "data": {
      "image/png": "[encoded data removed]",
      "text/plain": [
       "<Figure size 720x504 with 1 Axes>"
      ]
     },
     "metadata": {
      "needs_background": "light"
     },
     "output_type": "display_data"
    }
   ],
   "source": [
    "# plot the 7 most important features \n",
    "plt.figure(figsize=(10,7))\n",
    "feat_importances = pd.Series(rfc.feature_importances_, index = train.drop(columns=columns_to_drop_X, axis=1).columns)\n",
    "feat_importances.nlargest(7).plot(kind='barh');"
   ]
  },
  {
   "cell_type": "markdown",
   "metadata": {},
   "source": [
    "##### Seleccionamos estas 7 variables para entrenar el modelo mediante el Pipeline"
   ]
  },
  {
   "cell_type": "markdown",
   "metadata": {},
   "source": [
    "### Pipeline para preprocesamiento"
   ]
  },
  {
   "cell_type": "code",
   "execution_count": 62,
   "metadata": {},
   "outputs": [
    {
     "ename": "TypeError",
     "evalue": "fit_transform() takes 2 positional arguments but 3 were given",
     "output_type": "error",
     "traceback": [
      "\u001b[1;31m---------------------------------------------------------------------------\u001b[0m",
      "\u001b[1;31mTypeError\u001b[0m                                 Traceback (most recent call last)",
      "\u001b[1;32m<ipython-input-62-d6e70e8fc114>\u001b[0m in \u001b[0;36m<module>\u001b[1;34m\u001b[0m\n\u001b[0;32m     22\u001b[0m                                                     random_state=0)\n\u001b[0;32m     23\u001b[0m \u001b[1;33m\u001b[0m\u001b[0m\n\u001b[1;32m---> 24\u001b[1;33m \u001b[0mcomplete_pipeline\u001b[0m\u001b[1;33m.\u001b[0m\u001b[0mfit\u001b[0m\u001b[1;33m(\u001b[0m\u001b[0mX_train\u001b[0m\u001b[1;33m,\u001b[0m \u001b[0my_train\u001b[0m\u001b[1;33m)\u001b[0m\u001b[1;33m\u001b[0m\u001b[1;33m\u001b[0m\u001b[0m\n\u001b[0m",
      "\u001b[1;32m~\\Anaconda3\\lib\\site-packages\\sklearn\\pipeline.py\u001b[0m in \u001b[0;36mfit\u001b[1;34m(self, X, y, **fit_params)\u001b[0m\n\u001b[0;32m    339\u001b[0m         \"\"\"\n\u001b[0;32m    340\u001b[0m         \u001b[0mfit_params_steps\u001b[0m \u001b[1;33m=\u001b[0m \u001b[0mself\u001b[0m\u001b[1;33m.\u001b[0m\u001b[0m_check_fit_params\u001b[0m\u001b[1;33m(\u001b[0m\u001b[1;33m**\u001b[0m\u001b[0mfit_params\u001b[0m\u001b[1;33m)\u001b[0m\u001b[1;33m\u001b[0m\u001b[1;33m\u001b[0m\u001b[0m\n\u001b[1;32m--> 341\u001b[1;33m         \u001b[0mXt\u001b[0m \u001b[1;33m=\u001b[0m \u001b[0mself\u001b[0m\u001b[1;33m.\u001b[0m\u001b[0m_fit\u001b[0m\u001b[1;33m(\u001b[0m\u001b[0mX\u001b[0m\u001b[1;33m,\u001b[0m \u001b[0my\u001b[0m\u001b[1;33m,\u001b[0m \u001b[1;33m**\u001b[0m\u001b[0mfit_params_steps\u001b[0m\u001b[1;33m)\u001b[0m\u001b[1;33m\u001b[0m\u001b[1;33m\u001b[0m\u001b[0m\n\u001b[0m\u001b[0;32m    342\u001b[0m         with _print_elapsed_time('Pipeline',\n\u001b[0;32m    343\u001b[0m                                  self._log_message(len(self.steps) - 1)):\n",
      "\u001b[1;32m~\\Anaconda3\\lib\\site-packages\\sklearn\\pipeline.py\u001b[0m in \u001b[0;36m_fit\u001b[1;34m(self, X, y, **fit_params_steps)\u001b[0m\n\u001b[0;32m    305\u001b[0m                 \u001b[0mmessage_clsname\u001b[0m\u001b[1;33m=\u001b[0m\u001b[1;34m'Pipeline'\u001b[0m\u001b[1;33m,\u001b[0m\u001b[1;33m\u001b[0m\u001b[1;33m\u001b[0m\u001b[0m\n\u001b[0;32m    306\u001b[0m                 \u001b[0mmessage\u001b[0m\u001b[1;33m=\u001b[0m\u001b[0mself\u001b[0m\u001b[1;33m.\u001b[0m\u001b[0m_log_message\u001b[0m\u001b[1;33m(\u001b[0m\u001b[0mstep_idx\u001b[0m\u001b[1;33m)\u001b[0m\u001b[1;33m,\u001b[0m\u001b[1;33m\u001b[0m\u001b[1;33m\u001b[0m\u001b[0m\n\u001b[1;32m--> 307\u001b[1;33m                 **fit_params_steps[name])\n\u001b[0m\u001b[0;32m    308\u001b[0m             \u001b[1;31m# Replace the transformer of the step with the fitted\u001b[0m\u001b[1;33m\u001b[0m\u001b[1;33m\u001b[0m\u001b[1;33m\u001b[0m\u001b[0m\n\u001b[0;32m    309\u001b[0m             \u001b[1;31m# transformer. This is necessary when loading the transformer\u001b[0m\u001b[1;33m\u001b[0m\u001b[1;33m\u001b[0m\u001b[1;33m\u001b[0m\u001b[0m\n",
      "\u001b[1;32m~\\Anaconda3\\lib\\site-packages\\joblib\\memory.py\u001b[0m in \u001b[0;36m__call__\u001b[1;34m(self, *args, **kwargs)\u001b[0m\n\u001b[0;32m    353\u001b[0m \u001b[1;33m\u001b[0m\u001b[0m\n\u001b[0;32m    354\u001b[0m     \u001b[1;32mdef\u001b[0m \u001b[0m__call__\u001b[0m\u001b[1;33m(\u001b[0m\u001b[0mself\u001b[0m\u001b[1;33m,\u001b[0m \u001b[1;33m*\u001b[0m\u001b[0margs\u001b[0m\u001b[1;33m,\u001b[0m \u001b[1;33m**\u001b[0m\u001b[0mkwargs\u001b[0m\u001b[1;33m)\u001b[0m\u001b[1;33m:\u001b[0m\u001b[1;33m\u001b[0m\u001b[1;33m\u001b[0m\u001b[0m\n\u001b[1;32m--> 355\u001b[1;33m         \u001b[1;32mreturn\u001b[0m \u001b[0mself\u001b[0m\u001b[1;33m.\u001b[0m\u001b[0mfunc\u001b[0m\u001b[1;33m(\u001b[0m\u001b[1;33m*\u001b[0m\u001b[0margs\u001b[0m\u001b[1;33m,\u001b[0m \u001b[1;33m**\u001b[0m\u001b[0mkwargs\u001b[0m\u001b[1;33m)\u001b[0m\u001b[1;33m\u001b[0m\u001b[1;33m\u001b[0m\u001b[0m\n\u001b[0m\u001b[0;32m    356\u001b[0m \u001b[1;33m\u001b[0m\u001b[0m\n\u001b[0;32m    357\u001b[0m     \u001b[1;32mdef\u001b[0m \u001b[0mcall_and_shelve\u001b[0m\u001b[1;33m(\u001b[0m\u001b[0mself\u001b[0m\u001b[1;33m,\u001b[0m \u001b[1;33m*\u001b[0m\u001b[0margs\u001b[0m\u001b[1;33m,\u001b[0m \u001b[1;33m**\u001b[0m\u001b[0mkwargs\u001b[0m\u001b[1;33m)\u001b[0m\u001b[1;33m:\u001b[0m\u001b[1;33m\u001b[0m\u001b[1;33m\u001b[0m\u001b[0m\n",
      "\u001b[1;32m~\\Anaconda3\\lib\\site-packages\\sklearn\\pipeline.py\u001b[0m in \u001b[0;36m_fit_transform_one\u001b[1;34m(transformer, X, y, weight, message_clsname, message, **fit_params)\u001b[0m\n\u001b[0;32m    752\u001b[0m     \u001b[1;32mwith\u001b[0m \u001b[0m_print_elapsed_time\u001b[0m\u001b[1;33m(\u001b[0m\u001b[0mmessage_clsname\u001b[0m\u001b[1;33m,\u001b[0m \u001b[0mmessage\u001b[0m\u001b[1;33m)\u001b[0m\u001b[1;33m:\u001b[0m\u001b[1;33m\u001b[0m\u001b[1;33m\u001b[0m\u001b[0m\n\u001b[0;32m    753\u001b[0m         \u001b[1;32mif\u001b[0m \u001b[0mhasattr\u001b[0m\u001b[1;33m(\u001b[0m\u001b[0mtransformer\u001b[0m\u001b[1;33m,\u001b[0m \u001b[1;34m'fit_transform'\u001b[0m\u001b[1;33m)\u001b[0m\u001b[1;33m:\u001b[0m\u001b[1;33m\u001b[0m\u001b[1;33m\u001b[0m\u001b[0m\n\u001b[1;32m--> 754\u001b[1;33m             \u001b[0mres\u001b[0m \u001b[1;33m=\u001b[0m \u001b[0mtransformer\u001b[0m\u001b[1;33m.\u001b[0m\u001b[0mfit_transform\u001b[0m\u001b[1;33m(\u001b[0m\u001b[0mX\u001b[0m\u001b[1;33m,\u001b[0m \u001b[0my\u001b[0m\u001b[1;33m,\u001b[0m \u001b[1;33m**\u001b[0m\u001b[0mfit_params\u001b[0m\u001b[1;33m)\u001b[0m\u001b[1;33m\u001b[0m\u001b[1;33m\u001b[0m\u001b[0m\n\u001b[0m\u001b[0;32m    755\u001b[0m         \u001b[1;32melse\u001b[0m\u001b[1;33m:\u001b[0m\u001b[1;33m\u001b[0m\u001b[1;33m\u001b[0m\u001b[0m\n\u001b[0;32m    756\u001b[0m             \u001b[0mres\u001b[0m \u001b[1;33m=\u001b[0m \u001b[0mtransformer\u001b[0m\u001b[1;33m.\u001b[0m\u001b[0mfit\u001b[0m\u001b[1;33m(\u001b[0m\u001b[0mX\u001b[0m\u001b[1;33m,\u001b[0m \u001b[0my\u001b[0m\u001b[1;33m,\u001b[0m \u001b[1;33m**\u001b[0m\u001b[0mfit_params\u001b[0m\u001b[1;33m)\u001b[0m\u001b[1;33m.\u001b[0m\u001b[0mtransform\u001b[0m\u001b[1;33m(\u001b[0m\u001b[0mX\u001b[0m\u001b[1;33m)\u001b[0m\u001b[1;33m\u001b[0m\u001b[1;33m\u001b[0m\u001b[0m\n",
      "\u001b[1;32m~\\Anaconda3\\lib\\site-packages\\sklearn\\compose\\_column_transformer.py\u001b[0m in \u001b[0;36mfit_transform\u001b[1;34m(self, X, y)\u001b[0m\n\u001b[0;32m    506\u001b[0m         \u001b[0mself\u001b[0m\u001b[1;33m.\u001b[0m\u001b[0m_validate_remainder\u001b[0m\u001b[1;33m(\u001b[0m\u001b[0mX\u001b[0m\u001b[1;33m)\u001b[0m\u001b[1;33m\u001b[0m\u001b[1;33m\u001b[0m\u001b[0m\n\u001b[0;32m    507\u001b[0m \u001b[1;33m\u001b[0m\u001b[0m\n\u001b[1;32m--> 508\u001b[1;33m         \u001b[0mresult\u001b[0m \u001b[1;33m=\u001b[0m \u001b[0mself\u001b[0m\u001b[1;33m.\u001b[0m\u001b[0m_fit_transform\u001b[0m\u001b[1;33m(\u001b[0m\u001b[0mX\u001b[0m\u001b[1;33m,\u001b[0m \u001b[0my\u001b[0m\u001b[1;33m,\u001b[0m \u001b[0m_fit_transform_one\u001b[0m\u001b[1;33m)\u001b[0m\u001b[1;33m\u001b[0m\u001b[1;33m\u001b[0m\u001b[0m\n\u001b[0m\u001b[0;32m    509\u001b[0m \u001b[1;33m\u001b[0m\u001b[0m\n\u001b[0;32m    510\u001b[0m         \u001b[1;32mif\u001b[0m \u001b[1;32mnot\u001b[0m \u001b[0mresult\u001b[0m\u001b[1;33m:\u001b[0m\u001b[1;33m\u001b[0m\u001b[1;33m\u001b[0m\u001b[0m\n",
      "\u001b[1;32m~\\Anaconda3\\lib\\site-packages\\sklearn\\compose\\_column_transformer.py\u001b[0m in \u001b[0;36m_fit_transform\u001b[1;34m(self, X, y, func, fitted)\u001b[0m\n\u001b[0;32m    442\u001b[0m                     message=self._log_message(name, idx, len(transformers)))\n\u001b[0;32m    443\u001b[0m                 for idx, (name, trans, column, weight) in enumerate(\n\u001b[1;32m--> 444\u001b[1;33m                         self._iter(fitted=fitted, replace_strings=True), 1))\n\u001b[0m\u001b[0;32m    445\u001b[0m         \u001b[1;32mexcept\u001b[0m \u001b[0mValueError\u001b[0m \u001b[1;32mas\u001b[0m \u001b[0me\u001b[0m\u001b[1;33m:\u001b[0m\u001b[1;33m\u001b[0m\u001b[1;33m\u001b[0m\u001b[0m\n\u001b[0;32m    446\u001b[0m             \u001b[1;32mif\u001b[0m \u001b[1;34m\"Expected 2D array, got 1D array instead\"\u001b[0m \u001b[1;32min\u001b[0m \u001b[0mstr\u001b[0m\u001b[1;33m(\u001b[0m\u001b[0me\u001b[0m\u001b[1;33m)\u001b[0m\u001b[1;33m:\u001b[0m\u001b[1;33m\u001b[0m\u001b[1;33m\u001b[0m\u001b[0m\n",
      "\u001b[1;32m~\\Anaconda3\\lib\\site-packages\\joblib\\parallel.py\u001b[0m in \u001b[0;36m__call__\u001b[1;34m(self, iterable)\u001b[0m\n\u001b[0;32m    922\u001b[0m                 \u001b[0mself\u001b[0m\u001b[1;33m.\u001b[0m\u001b[0m_iterating\u001b[0m \u001b[1;33m=\u001b[0m \u001b[0mself\u001b[0m\u001b[1;33m.\u001b[0m\u001b[0m_original_iterator\u001b[0m \u001b[1;32mis\u001b[0m \u001b[1;32mnot\u001b[0m \u001b[1;32mNone\u001b[0m\u001b[1;33m\u001b[0m\u001b[1;33m\u001b[0m\u001b[0m\n\u001b[0;32m    923\u001b[0m \u001b[1;33m\u001b[0m\u001b[0m\n\u001b[1;32m--> 924\u001b[1;33m             \u001b[1;32mwhile\u001b[0m \u001b[0mself\u001b[0m\u001b[1;33m.\u001b[0m\u001b[0mdispatch_one_batch\u001b[0m\u001b[1;33m(\u001b[0m\u001b[0miterator\u001b[0m\u001b[1;33m)\u001b[0m\u001b[1;33m:\u001b[0m\u001b[1;33m\u001b[0m\u001b[1;33m\u001b[0m\u001b[0m\n\u001b[0m\u001b[0;32m    925\u001b[0m                 \u001b[1;32mpass\u001b[0m\u001b[1;33m\u001b[0m\u001b[1;33m\u001b[0m\u001b[0m\n\u001b[0;32m    926\u001b[0m \u001b[1;33m\u001b[0m\u001b[0m\n",
      "\u001b[1;32m~\\Anaconda3\\lib\\site-packages\\joblib\\parallel.py\u001b[0m in \u001b[0;36mdispatch_one_batch\u001b[1;34m(self, iterator)\u001b[0m\n\u001b[0;32m    757\u001b[0m                 \u001b[1;32mreturn\u001b[0m \u001b[1;32mFalse\u001b[0m\u001b[1;33m\u001b[0m\u001b[1;33m\u001b[0m\u001b[0m\n\u001b[0;32m    758\u001b[0m             \u001b[1;32melse\u001b[0m\u001b[1;33m:\u001b[0m\u001b[1;33m\u001b[0m\u001b[1;33m\u001b[0m\u001b[0m\n\u001b[1;32m--> 759\u001b[1;33m                 \u001b[0mself\u001b[0m\u001b[1;33m.\u001b[0m\u001b[0m_dispatch\u001b[0m\u001b[1;33m(\u001b[0m\u001b[0mtasks\u001b[0m\u001b[1;33m)\u001b[0m\u001b[1;33m\u001b[0m\u001b[1;33m\u001b[0m\u001b[0m\n\u001b[0m\u001b[0;32m    760\u001b[0m                 \u001b[1;32mreturn\u001b[0m \u001b[1;32mTrue\u001b[0m\u001b[1;33m\u001b[0m\u001b[1;33m\u001b[0m\u001b[0m\n\u001b[0;32m    761\u001b[0m \u001b[1;33m\u001b[0m\u001b[0m\n",
      "\u001b[1;32m~\\Anaconda3\\lib\\site-packages\\joblib\\parallel.py\u001b[0m in \u001b[0;36m_dispatch\u001b[1;34m(self, batch)\u001b[0m\n\u001b[0;32m    714\u001b[0m         \u001b[1;32mwith\u001b[0m \u001b[0mself\u001b[0m\u001b[1;33m.\u001b[0m\u001b[0m_lock\u001b[0m\u001b[1;33m:\u001b[0m\u001b[1;33m\u001b[0m\u001b[1;33m\u001b[0m\u001b[0m\n\u001b[0;32m    715\u001b[0m             \u001b[0mjob_idx\u001b[0m \u001b[1;33m=\u001b[0m \u001b[0mlen\u001b[0m\u001b[1;33m(\u001b[0m\u001b[0mself\u001b[0m\u001b[1;33m.\u001b[0m\u001b[0m_jobs\u001b[0m\u001b[1;33m)\u001b[0m\u001b[1;33m\u001b[0m\u001b[1;33m\u001b[0m\u001b[0m\n\u001b[1;32m--> 716\u001b[1;33m             \u001b[0mjob\u001b[0m \u001b[1;33m=\u001b[0m \u001b[0mself\u001b[0m\u001b[1;33m.\u001b[0m\u001b[0m_backend\u001b[0m\u001b[1;33m.\u001b[0m\u001b[0mapply_async\u001b[0m\u001b[1;33m(\u001b[0m\u001b[0mbatch\u001b[0m\u001b[1;33m,\u001b[0m \u001b[0mcallback\u001b[0m\u001b[1;33m=\u001b[0m\u001b[0mcb\u001b[0m\u001b[1;33m)\u001b[0m\u001b[1;33m\u001b[0m\u001b[1;33m\u001b[0m\u001b[0m\n\u001b[0m\u001b[0;32m    717\u001b[0m             \u001b[1;31m# A job can complete so quickly than its callback is\u001b[0m\u001b[1;33m\u001b[0m\u001b[1;33m\u001b[0m\u001b[1;33m\u001b[0m\u001b[0m\n\u001b[0;32m    718\u001b[0m             \u001b[1;31m# called before we get here, causing self._jobs to\u001b[0m\u001b[1;33m\u001b[0m\u001b[1;33m\u001b[0m\u001b[1;33m\u001b[0m\u001b[0m\n",
      "\u001b[1;32m~\\Anaconda3\\lib\\site-packages\\joblib\\_parallel_backends.py\u001b[0m in \u001b[0;36mapply_async\u001b[1;34m(self, func, callback)\u001b[0m\n\u001b[0;32m    180\u001b[0m     \u001b[1;32mdef\u001b[0m \u001b[0mapply_async\u001b[0m\u001b[1;33m(\u001b[0m\u001b[0mself\u001b[0m\u001b[1;33m,\u001b[0m \u001b[0mfunc\u001b[0m\u001b[1;33m,\u001b[0m \u001b[0mcallback\u001b[0m\u001b[1;33m=\u001b[0m\u001b[1;32mNone\u001b[0m\u001b[1;33m)\u001b[0m\u001b[1;33m:\u001b[0m\u001b[1;33m\u001b[0m\u001b[1;33m\u001b[0m\u001b[0m\n\u001b[0;32m    181\u001b[0m         \u001b[1;34m\"\"\"Schedule a func to be run\"\"\"\u001b[0m\u001b[1;33m\u001b[0m\u001b[1;33m\u001b[0m\u001b[0m\n\u001b[1;32m--> 182\u001b[1;33m         \u001b[0mresult\u001b[0m \u001b[1;33m=\u001b[0m \u001b[0mImmediateResult\u001b[0m\u001b[1;33m(\u001b[0m\u001b[0mfunc\u001b[0m\u001b[1;33m)\u001b[0m\u001b[1;33m\u001b[0m\u001b[1;33m\u001b[0m\u001b[0m\n\u001b[0m\u001b[0;32m    183\u001b[0m         \u001b[1;32mif\u001b[0m \u001b[0mcallback\u001b[0m\u001b[1;33m:\u001b[0m\u001b[1;33m\u001b[0m\u001b[1;33m\u001b[0m\u001b[0m\n\u001b[0;32m    184\u001b[0m             \u001b[0mcallback\u001b[0m\u001b[1;33m(\u001b[0m\u001b[0mresult\u001b[0m\u001b[1;33m)\u001b[0m\u001b[1;33m\u001b[0m\u001b[1;33m\u001b[0m\u001b[0m\n",
      "\u001b[1;32m~\\Anaconda3\\lib\\site-packages\\joblib\\_parallel_backends.py\u001b[0m in \u001b[0;36m__init__\u001b[1;34m(self, batch)\u001b[0m\n\u001b[0;32m    547\u001b[0m         \u001b[1;31m# Don't delay the application, to avoid keeping the input\u001b[0m\u001b[1;33m\u001b[0m\u001b[1;33m\u001b[0m\u001b[1;33m\u001b[0m\u001b[0m\n\u001b[0;32m    548\u001b[0m         \u001b[1;31m# arguments in memory\u001b[0m\u001b[1;33m\u001b[0m\u001b[1;33m\u001b[0m\u001b[1;33m\u001b[0m\u001b[0m\n\u001b[1;32m--> 549\u001b[1;33m         \u001b[0mself\u001b[0m\u001b[1;33m.\u001b[0m\u001b[0mresults\u001b[0m \u001b[1;33m=\u001b[0m \u001b[0mbatch\u001b[0m\u001b[1;33m(\u001b[0m\u001b[1;33m)\u001b[0m\u001b[1;33m\u001b[0m\u001b[1;33m\u001b[0m\u001b[0m\n\u001b[0m\u001b[0;32m    550\u001b[0m \u001b[1;33m\u001b[0m\u001b[0m\n\u001b[0;32m    551\u001b[0m     \u001b[1;32mdef\u001b[0m \u001b[0mget\u001b[0m\u001b[1;33m(\u001b[0m\u001b[0mself\u001b[0m\u001b[1;33m)\u001b[0m\u001b[1;33m:\u001b[0m\u001b[1;33m\u001b[0m\u001b[1;33m\u001b[0m\u001b[0m\n",
      "\u001b[1;32m~\\Anaconda3\\lib\\site-packages\\joblib\\parallel.py\u001b[0m in \u001b[0;36m__call__\u001b[1;34m(self)\u001b[0m\n\u001b[0;32m    223\u001b[0m         \u001b[1;32mwith\u001b[0m \u001b[0mparallel_backend\u001b[0m\u001b[1;33m(\u001b[0m\u001b[0mself\u001b[0m\u001b[1;33m.\u001b[0m\u001b[0m_backend\u001b[0m\u001b[1;33m,\u001b[0m \u001b[0mn_jobs\u001b[0m\u001b[1;33m=\u001b[0m\u001b[0mself\u001b[0m\u001b[1;33m.\u001b[0m\u001b[0m_n_jobs\u001b[0m\u001b[1;33m)\u001b[0m\u001b[1;33m:\u001b[0m\u001b[1;33m\u001b[0m\u001b[1;33m\u001b[0m\u001b[0m\n\u001b[0;32m    224\u001b[0m             return [func(*args, **kwargs)\n\u001b[1;32m--> 225\u001b[1;33m                     for func, args, kwargs in self.items]\n\u001b[0m\u001b[0;32m    226\u001b[0m \u001b[1;33m\u001b[0m\u001b[0m\n\u001b[0;32m    227\u001b[0m     \u001b[1;32mdef\u001b[0m \u001b[0m__len__\u001b[0m\u001b[1;33m(\u001b[0m\u001b[0mself\u001b[0m\u001b[1;33m)\u001b[0m\u001b[1;33m:\u001b[0m\u001b[1;33m\u001b[0m\u001b[1;33m\u001b[0m\u001b[0m\n",
      "\u001b[1;32m~\\Anaconda3\\lib\\site-packages\\joblib\\parallel.py\u001b[0m in \u001b[0;36m<listcomp>\u001b[1;34m(.0)\u001b[0m\n\u001b[0;32m    223\u001b[0m         \u001b[1;32mwith\u001b[0m \u001b[0mparallel_backend\u001b[0m\u001b[1;33m(\u001b[0m\u001b[0mself\u001b[0m\u001b[1;33m.\u001b[0m\u001b[0m_backend\u001b[0m\u001b[1;33m,\u001b[0m \u001b[0mn_jobs\u001b[0m\u001b[1;33m=\u001b[0m\u001b[0mself\u001b[0m\u001b[1;33m.\u001b[0m\u001b[0m_n_jobs\u001b[0m\u001b[1;33m)\u001b[0m\u001b[1;33m:\u001b[0m\u001b[1;33m\u001b[0m\u001b[1;33m\u001b[0m\u001b[0m\n\u001b[0;32m    224\u001b[0m             return [func(*args, **kwargs)\n\u001b[1;32m--> 225\u001b[1;33m                     for func, args, kwargs in self.items]\n\u001b[0m\u001b[0;32m    226\u001b[0m \u001b[1;33m\u001b[0m\u001b[0m\n\u001b[0;32m    227\u001b[0m     \u001b[1;32mdef\u001b[0m \u001b[0m__len__\u001b[0m\u001b[1;33m(\u001b[0m\u001b[0mself\u001b[0m\u001b[1;33m)\u001b[0m\u001b[1;33m:\u001b[0m\u001b[1;33m\u001b[0m\u001b[1;33m\u001b[0m\u001b[0m\n",
      "\u001b[1;32m~\\Anaconda3\\lib\\site-packages\\sklearn\\utils\\fixes.py\u001b[0m in \u001b[0;36m__call__\u001b[1;34m(self, *args, **kwargs)\u001b[0m\n\u001b[0;32m    220\u001b[0m     \u001b[1;32mdef\u001b[0m \u001b[0m__call__\u001b[0m\u001b[1;33m(\u001b[0m\u001b[0mself\u001b[0m\u001b[1;33m,\u001b[0m \u001b[1;33m*\u001b[0m\u001b[0margs\u001b[0m\u001b[1;33m,\u001b[0m \u001b[1;33m**\u001b[0m\u001b[0mkwargs\u001b[0m\u001b[1;33m)\u001b[0m\u001b[1;33m:\u001b[0m\u001b[1;33m\u001b[0m\u001b[1;33m\u001b[0m\u001b[0m\n\u001b[0;32m    221\u001b[0m         \u001b[1;32mwith\u001b[0m \u001b[0mconfig_context\u001b[0m\u001b[1;33m(\u001b[0m\u001b[1;33m**\u001b[0m\u001b[0mself\u001b[0m\u001b[1;33m.\u001b[0m\u001b[0mconfig\u001b[0m\u001b[1;33m)\u001b[0m\u001b[1;33m:\u001b[0m\u001b[1;33m\u001b[0m\u001b[1;33m\u001b[0m\u001b[0m\n\u001b[1;32m--> 222\u001b[1;33m             \u001b[1;32mreturn\u001b[0m \u001b[0mself\u001b[0m\u001b[1;33m.\u001b[0m\u001b[0mfunction\u001b[0m\u001b[1;33m(\u001b[0m\u001b[1;33m*\u001b[0m\u001b[0margs\u001b[0m\u001b[1;33m,\u001b[0m \u001b[1;33m**\u001b[0m\u001b[0mkwargs\u001b[0m\u001b[1;33m)\u001b[0m\u001b[1;33m\u001b[0m\u001b[1;33m\u001b[0m\u001b[0m\n\u001b[0m",
      "\u001b[1;32m~\\Anaconda3\\lib\\site-packages\\sklearn\\pipeline.py\u001b[0m in \u001b[0;36m_fit_transform_one\u001b[1;34m(transformer, X, y, weight, message_clsname, message, **fit_params)\u001b[0m\n\u001b[0;32m    752\u001b[0m     \u001b[1;32mwith\u001b[0m \u001b[0m_print_elapsed_time\u001b[0m\u001b[1;33m(\u001b[0m\u001b[0mmessage_clsname\u001b[0m\u001b[1;33m,\u001b[0m \u001b[0mmessage\u001b[0m\u001b[1;33m)\u001b[0m\u001b[1;33m:\u001b[0m\u001b[1;33m\u001b[0m\u001b[1;33m\u001b[0m\u001b[0m\n\u001b[0;32m    753\u001b[0m         \u001b[1;32mif\u001b[0m \u001b[0mhasattr\u001b[0m\u001b[1;33m(\u001b[0m\u001b[0mtransformer\u001b[0m\u001b[1;33m,\u001b[0m \u001b[1;34m'fit_transform'\u001b[0m\u001b[1;33m)\u001b[0m\u001b[1;33m:\u001b[0m\u001b[1;33m\u001b[0m\u001b[1;33m\u001b[0m\u001b[0m\n\u001b[1;32m--> 754\u001b[1;33m             \u001b[0mres\u001b[0m \u001b[1;33m=\u001b[0m \u001b[0mtransformer\u001b[0m\u001b[1;33m.\u001b[0m\u001b[0mfit_transform\u001b[0m\u001b[1;33m(\u001b[0m\u001b[0mX\u001b[0m\u001b[1;33m,\u001b[0m \u001b[0my\u001b[0m\u001b[1;33m,\u001b[0m \u001b[1;33m**\u001b[0m\u001b[0mfit_params\u001b[0m\u001b[1;33m)\u001b[0m\u001b[1;33m\u001b[0m\u001b[1;33m\u001b[0m\u001b[0m\n\u001b[0m\u001b[0;32m    755\u001b[0m         \u001b[1;32melse\u001b[0m\u001b[1;33m:\u001b[0m\u001b[1;33m\u001b[0m\u001b[1;33m\u001b[0m\u001b[0m\n\u001b[0;32m    756\u001b[0m             \u001b[0mres\u001b[0m \u001b[1;33m=\u001b[0m \u001b[0mtransformer\u001b[0m\u001b[1;33m.\u001b[0m\u001b[0mfit\u001b[0m\u001b[1;33m(\u001b[0m\u001b[0mX\u001b[0m\u001b[1;33m,\u001b[0m \u001b[0my\u001b[0m\u001b[1;33m,\u001b[0m \u001b[1;33m**\u001b[0m\u001b[0mfit_params\u001b[0m\u001b[1;33m)\u001b[0m\u001b[1;33m.\u001b[0m\u001b[0mtransform\u001b[0m\u001b[1;33m(\u001b[0m\u001b[0mX\u001b[0m\u001b[1;33m)\u001b[0m\u001b[1;33m\u001b[0m\u001b[1;33m\u001b[0m\u001b[0m\n",
      "\u001b[1;31mTypeError\u001b[0m: fit_transform() takes 2 positional arguments but 3 were given"
     ]
    }
   ],
   "source": [
    "columns_to_drop_X = ['ArrTime', 'ArrDelay', 'DepTime', '10%_Delayed', 'ArrDelay_vs_CRSElapsedTime', 'Delay_level']\n",
    "\n",
    "X = reduced_sample_train.drop(columns=columns_to_drop_X, axis=1)\n",
    "y = reduced_sample_train['10%_Delayed']\n",
    "\n",
    "dummy_features = ['FullCarrier', 'Origin', 'Dest']\n",
    "one_hot_encoder = OneHotEncoder()\n",
    "\n",
    "ordinal_features = ['ArrTime_Range', 'DepTime_Range']\n",
    "label_encoding = preprocessing.LabelEncoder()\n",
    "\n",
    "\n",
    "preprocessor = ColumnTransformer(\n",
    "    transformers=[\n",
    "        ('dummy', one_hot_encoder, dummy_features),\n",
    "        ('ordinal', label_encoding, ordinal_features)])\n",
    "\n",
    "complete_pipeline = Pipeline(steps=[('preprocessor', preprocessor),\n",
    "                      ('RFC', RandomForestClassifier(random_state=42, max_features='auto', n_estimators= 200, max_depth=8, criterion='gini'))])\n",
    "\n",
    "X_train, X_test, y_train, y_test = train_test_split(X, y, test_size=0.2,\n",
    "                                                    random_state=0)\n",
    "\n",
    "complete_pipeline.fit(X_train, y_train)"
   ]
  },
  {
   "cell_type": "markdown",
   "metadata": {},
   "source": [
    "## Creación del Pipeline"
   ]
  },
  {
   "cell_type": "code",
   "execution_count": 41,
   "metadata": {},
   "outputs": [],
   "source": [
    "from sklearn.feature_selection import SelectKBest, VarianceThreshold"
   ]
  },
  {
   "cell_type": "code",
   "execution_count": 42,
   "metadata": {},
   "outputs": [],
   "source": [
    "from sklearn.metrics import accuracy_score"
   ]
  },
  {
   "cell_type": "code",
   "execution_count": 48,
   "metadata": {},
   "outputs": [
    {
     "name": "stderr",
     "output_type": "stream",
     "text": [
      "C:\\Users\\tomi_\\Anaconda3\\lib\\site-packages\\sklearn\\feature_selection\\_univariate_selection.py:115: UserWarning: Features [  1 445] are constant.\n",
      "  UserWarning)\n",
      "C:\\Users\\tomi_\\Anaconda3\\lib\\site-packages\\sklearn\\feature_selection\\_univariate_selection.py:116: RuntimeWarning: invalid value encountered in true_divide\n",
      "  f = msb / msw\n"
     ]
    },
    {
     "name": "stdout",
     "output_type": "stream",
     "text": [
      "La precisión para el modelo Random Forest en el Train Set: 0.86682\n"
     ]
    }
   ],
   "source": [
    "pasos = [('feat_select', SelectKBest(k = 7)),\n",
    "                     ('RFC', RandomForestClassifier(random_state=42, max_features='auto', n_estimators= 10, max_depth=5, criterion='gini'))]\n",
    "pipeline = Pipeline(pasos)\n",
    "\n",
    "pipeline.fit(X_train, y_train)   \n",
    "\n",
    "y_pred = pipeline.predict(X_test)\n",
    "print('La precisión para el modelo Random Forest en el Train Set: %s' % (round(accuracy_score(y_test, y_pred), 5)))"
   ]
  },
  {
   "cell_type": "markdown",
   "metadata": {},
   "source": [
    "### Grid Search"
   ]
  },
  {
   "cell_type": "code",
   "execution_count": 54,
   "metadata": {},
   "outputs": [],
   "source": [
    "parametros_grid = { \n",
    "    'n_estimators': [10, 25, 50],\n",
    "    'max_features': ['auto', 'sqrt', 'log2'],\n",
    "    'max_depth' : [4,5,6,7,8],\n",
    "    'criterion' :['gini', 'entropy']\n",
    "}\n"
   ]
  },
  {
   "cell_type": "code",
   "execution_count": 55,
   "metadata": {},
   "outputs": [],
   "source": [
    "rfc = RandomForestClassifier()"
   ]
  },
  {
   "cell_type": "code",
   "execution_count": 56,
   "metadata": {},
   "outputs": [
    {
     "data": {
      "text/plain": [
       "GridSearchCV(cv=5, estimator=RandomForestClassifier(),\n",
       "             param_grid={'criterion': ['gini', 'entropy'],\n",
       "                         'max_depth': [4, 5, 6, 7, 8],\n",
       "                         'max_features': ['auto', 'sqrt', 'log2'],\n",
       "                         'n_estimators': [10, 25, 50]})"
      ]
     },
     "execution_count": 56,
     "metadata": {},
     "output_type": "execute_result"
    }
   ],
   "source": [
    "CV_rfc = GridSearchCV(estimator=rfc, param_grid=parametros_grid, cv= 5)\n",
    "CV_rfc.fit(X_train, y_train)"
   ]
  },
  {
   "cell_type": "code",
   "execution_count": 57,
   "metadata": {},
   "outputs": [
    {
     "data": {
      "text/plain": [
       "{'criterion': 'gini',\n",
       " 'max_depth': 8,\n",
       " 'max_features': 'auto',\n",
       " 'n_estimators': 50}"
      ]
     },
     "execution_count": 57,
     "metadata": {},
     "output_type": "execute_result"
    }
   ],
   "source": [
    "CV_rfc.best_params_"
   ]
  },
  {
   "cell_type": "markdown",
   "metadata": {},
   "source": [
    "### Implementación de modelo con parámetros óptimos"
   ]
  },
  {
   "cell_type": "code",
   "execution_count": 58,
   "metadata": {},
   "outputs": [],
   "source": [
    "optimal_rfc = RandomForestClassifier(random_state=42, max_features='auto', n_estimators= 200, max_depth=8, criterion='gini')"
   ]
  },
  {
   "cell_type": "code",
   "execution_count": 59,
   "metadata": {},
   "outputs": [],
   "source": [
    "optimal_rfc.fit(X_train, y_train)   \n",
    "\n",
    "optimal_y_pred = optimal_rfc.predict(X_test)"
   ]
  },
  {
   "cell_type": "code",
   "execution_count": 60,
   "metadata": {},
   "outputs": [
    {
     "name": "stdout",
     "output_type": "stream",
     "text": [
      "Accuracy for Random Forest on CV data:  0.7612951319115836\n"
     ]
    }
   ],
   "source": [
    "print(\"Accuracy for Random Forest on CV data: \",accuracy_score(y_test,optimal_y_pred))"
   ]
  },
  {
   "cell_type": "code",
   "execution_count": 61,
   "metadata": {},
   "outputs": [
    {
     "name": "stdout",
     "output_type": "stream",
     "text": [
      "Evaluación calidad Modelo\n",
      "---------------------------\n",
      "---------------------------\n",
      "Confusion Matrix\n",
      "---------------------------\n",
      "---------------------------\n",
      "[[ 7685  2003]\n",
      " [ 2386 18780]]\n",
      "---------------------------\n",
      "---------------------------\n",
      "Classif Report\n",
      "---------------------------\n",
      "---------------------------\n",
      "              precision    recall  f1-score   support\n",
      "\n",
      "           0       0.76      0.79      0.78      9688\n",
      "           1       0.90      0.89      0.90     21166\n",
      "\n",
      "    accuracy                           0.86     30854\n",
      "   macro avg       0.83      0.84      0.84     30854\n",
      "weighted avg       0.86      0.86      0.86     30854\n",
      "\n"
     ]
    }
   ],
   "source": [
    "print('Evaluación calidad Modelo')\n",
    "print('---------------------------')\n",
    "print('---------------------------')\n",
    "print('Confusion Matrix')\n",
    "print('---------------------------')\n",
    "print('---------------------------')\n",
    "print(confusion_matrix(y_test, y_pred_rfc))\n",
    "print('---------------------------')\n",
    "print('---------------------------')\n",
    "print('Classif Report')\n",
    "print('---------------------------')\n",
    "print('---------------------------')\n",
    "print(classification_report(y_test, y_pred_rfc))"
   ]
  },
  {
   "cell_type": "code",
   "execution_count": null,
   "metadata": {},
   "outputs": [],
   "source": []
  },
  {
   "cell_type": "markdown",
   "metadata": {},
   "source": [
    "# EJERCICIO 2"
   ]
  },
  {
   "cell_type": "markdown",
   "metadata": {},
   "source": [
    "### Calcular la frecuencia de palabras"
   ]
  },
  {
   "cell_type": "code",
   "execution_count": 63,
   "metadata": {},
   "outputs": [
    {
     "name": "stdout",
     "output_type": "stream",
     "text": [
      "Requirement already satisfied: nltk in c:\\users\\tomi_\\anaconda3\\lib\\site-packages (3.4.5)\n",
      "Requirement already satisfied: six in c:\\users\\tomi_\\anaconda3\\lib\\site-packages (from nltk) (1.12.0)\n"
     ]
    }
   ],
   "source": [
    "!pip install nltk"
   ]
  },
  {
   "cell_type": "code",
   "execution_count": 68,
   "metadata": {},
   "outputs": [],
   "source": [
    "import nltk\n"
   ]
  },
  {
   "cell_type": "code",
   "execution_count": 74,
   "metadata": {},
   "outputs": [
    {
     "name": "stderr",
     "output_type": "stream",
     "text": [
      "[nltk_data] Downloading package punkt to\n",
      "[nltk_data]     C:\\Users\\tomi_\\AppData\\Roaming\\nltk_data...\n",
      "[nltk_data]   Unzipping tokenizers\\punkt.zip.\n"
     ]
    },
    {
     "data": {
      "text/plain": [
       "True"
      ]
     },
     "execution_count": 74,
     "metadata": {},
     "output_type": "execute_result"
    }
   ],
   "source": [
    "nltk.download('punkt')"
   ]
  },
  {
   "cell_type": "code",
   "execution_count": 69,
   "metadata": {},
   "outputs": [],
   "source": [
    "from nltk.tokenize import sent_tokenize"
   ]
  },
  {
   "cell_type": "code",
   "execution_count": 75,
   "metadata": {},
   "outputs": [],
   "source": [
    "text = \"\"\"The Blockchain\n",
    "Bitcoin is a network that runs on a protocol known as the blockchain. A 2008 paper by a person or people calling themselves Satoshi Nakamoto first described both the blockchain and Bitcoin and for a while the two terms were all but synonymous.\n",
    "\n",
    "The blockchain​ has since evolved into a separate concept, and thousands of blockchains have been created using similar cryptographic techniques. This history can make the nomenclature confusing. Blockchain sometimes refers to the original, Bitcoin blockchain. At other times it refers to blockchain technology in general, or to any other specific blockchain, such as the one that powers Ethereum​.\n",
    "\n",
    "The basics of blockchain technology are mercifully straightforward. Any given blockchain consists of a single chain of discrete blocks of information, arranged chronologically. In principle this information can be any string of 1s and 0s, meaning it could include emails, contracts, land titles, marriage certificates, or bond trades. In theory, any type of contract between two parties can be established on a blockchain as long as both parties agree on the contract. This takes away any need for a third party to be involved in any contract. This opens a world of possibilities including peer-to-peer financial products, like loans or decentralized savings and checking accounts, where banks or any intermediary is irrelevant.\n",
    "\n",
    "While Bitcoin's current goal is a store of value as well as a payment system, there is nothing to say that Bitcoin could not be used in such a way in the future, though consensus would need to be reached to add these systems to Bitcoin. The main goal of the Ethereum project is to have a platform where these \"smart contracts\" can occur, therefore creating a whole realm of decentralized financial products without any middlemen and the fees and potential data breaches that come along with them.\n",
    "\n",
    "This versatility has caught the eye of governments and private corporations; indeed, some analysts believe that blockchain technology will ultimately be the most impactful aspect of the cryptocurrency craze.\n",
    "\n",
    "In Bitcoin's case, though, the information on the blockchain is mostly transactions. \n",
    "\n",
    "Bitcoin is really just a list. Person A sent X bitcoin to person B, who sent Y bitcoin to person C, etc. By tallying these transactions up, everyone knows where individual users stand. It's important to note that these transactions do not necessarily need to be done from human to human.\n",
    "\n",
    "Anything can access and use the Bitcoin network and your ethnicity, gender, religion, species, or political leaning are completely irrelevant. This creates vast possibilities for the internet of things. In the future, we could see systems where self-driving taxis or uber vehicles have their own blockchain wallets. The car would be sent cryptocurrency from the passenger and would not move until funds are received. The vehicle would be able to assess when it needs fuel and would use its wallet to facilitate a refill. \"\"\""
   ]
  },
  {
   "cell_type": "code",
   "execution_count": 72,
   "metadata": {},
   "outputs": [],
   "source": [
    "testo = \"\"\"Hello Mr. Smith, how are you doing today? The weather is great, and city is awesome.\n",
    "The sky is pinkish-blue. You shouldn't eat cardboard\"\"\""
   ]
  },
  {
   "cell_type": "code",
   "execution_count": 76,
   "metadata": {},
   "outputs": [
    {
     "name": "stdout",
     "output_type": "stream",
     "text": [
      "['The Blockchain\\nBitcoin is a network that runs on a protocol known as the blockchain.', 'A 2008 paper by a person or people calling themselves Satoshi Nakamoto first described both the blockchain and Bitcoin and for a while the two terms were all but synonymous.', 'The blockchain\\u200b has since evolved into a separate concept, and thousands of blockchains have been created using similar cryptographic techniques.', 'This history can make the nomenclature confusing.', 'Blockchain sometimes refers to the original, Bitcoin blockchain.', 'At other times it refers to blockchain technology in general, or to any other specific blockchain, such as the one that powers Ethereum\\u200b.', 'The basics of blockchain technology are mercifully straightforward.', 'Any given blockchain consists of a single chain of discrete blocks of information, arranged chronologically.', 'In principle this information can be any string of 1s and 0s, meaning it could include emails, contracts, land titles, marriage certificates, or bond trades.', 'In theory, any type of contract between two parties can be established on a blockchain as long as both parties agree on the contract.', 'This takes away any need for a third party to be involved in any contract.', 'This opens a world of possibilities including peer-to-peer financial products, like loans or decentralized savings and checking accounts, where banks or any intermediary is irrelevant.', \"While Bitcoin's current goal is a store of value as well as a payment system, there is nothing to say that Bitcoin could not be used in such a way in the future, though consensus would need to be reached to add these systems to Bitcoin.\", 'The main goal of the Ethereum project is to have a platform where these \"smart contracts\" can occur, therefore creating a whole realm of decentralized financial products without any middlemen and the fees and potential data breaches that come along with them.', 'This versatility has caught the eye of governments and private corporations; indeed, some analysts believe that blockchain technology will ultimately be the most impactful aspect of the cryptocurrency craze.', \"In Bitcoin's case, though, the information on the blockchain is mostly transactions.\", 'Bitcoin is really just a list.', 'Person A sent X bitcoin to person B, who sent Y bitcoin to person C, etc.', 'By tallying these transactions up, everyone knows where individual users stand.', \"It's important to note that these transactions do not necessarily need to be done from human to human.\", 'Anything can access and use the Bitcoin network and your ethnicity, gender, religion, species, or political leaning are completely irrelevant.', 'This creates vast possibilities for the internet of things.', 'In the future, we could see systems where self-driving taxis or uber vehicles have their own blockchain wallets.', 'The car would be sent cryptocurrency from the passenger and would not move until funds are received.', 'The vehicle would be able to assess when it needs fuel and would use its wallet to facilitate a refill.']\n"
     ]
    }
   ],
   "source": [
    "tokenized_text=sent_tokenize(text)\n",
    "print(tokenized_text)"
   ]
  },
  {
   "cell_type": "markdown",
   "metadata": {},
   "source": [
    "### Separación en palabras"
   ]
  },
  {
   "cell_type": "code",
   "execution_count": 77,
   "metadata": {},
   "outputs": [],
   "source": [
    "from nltk.tokenize import word_tokenize"
   ]
  },
  {
   "cell_type": "code",
   "execution_count": 78,
   "metadata": {},
   "outputs": [
    {
     "name": "stdout",
     "output_type": "stream",
     "text": [
      "['The', 'Blockchain', 'Bitcoin', 'is', 'a', 'network', 'that', 'runs', 'on', 'a', 'protocol', 'known', 'as', 'the', 'blockchain', '.', 'A', '2008', 'paper', 'by', 'a', 'person', 'or', 'people', 'calling', 'themselves', 'Satoshi', 'Nakamoto', 'first', 'described', 'both', 'the', 'blockchain', 'and', 'Bitcoin', 'and', 'for', 'a', 'while', 'the', 'two', 'terms', 'were', 'all', 'but', 'synonymous', '.', 'The', 'blockchain\\u200b', 'has', 'since', 'evolved', 'into', 'a', 'separate', 'concept', ',', 'and', 'thousands', 'of', 'blockchains', 'have', 'been', 'created', 'using', 'similar', 'cryptographic', 'techniques', '.', 'This', 'history', 'can', 'make', 'the', 'nomenclature', 'confusing', '.', 'Blockchain', 'sometimes', 'refers', 'to', 'the', 'original', ',', 'Bitcoin', 'blockchain', '.', 'At', 'other', 'times', 'it', 'refers', 'to', 'blockchain', 'technology', 'in', 'general', ',', 'or', 'to', 'any', 'other', 'specific', 'blockchain', ',', 'such', 'as', 'the', 'one', 'that', 'powers', 'Ethereum\\u200b', '.', 'The', 'basics', 'of', 'blockchain', 'technology', 'are', 'mercifully', 'straightforward', '.', 'Any', 'given', 'blockchain', 'consists', 'of', 'a', 'single', 'chain', 'of', 'discrete', 'blocks', 'of', 'information', ',', 'arranged', 'chronologically', '.', 'In', 'principle', 'this', 'information', 'can', 'be', 'any', 'string', 'of', '1s', 'and', '0s', ',', 'meaning', 'it', 'could', 'include', 'emails', ',', 'contracts', ',', 'land', 'titles', ',', 'marriage', 'certificates', ',', 'or', 'bond', 'trades', '.', 'In', 'theory', ',', 'any', 'type', 'of', 'contract', 'between', 'two', 'parties', 'can', 'be', 'established', 'on', 'a', 'blockchain', 'as', 'long', 'as', 'both', 'parties', 'agree', 'on', 'the', 'contract', '.', 'This', 'takes', 'away', 'any', 'need', 'for', 'a', 'third', 'party', 'to', 'be', 'involved', 'in', 'any', 'contract', '.', 'This', 'opens', 'a', 'world', 'of', 'possibilities', 'including', 'peer-to-peer', 'financial', 'products', ',', 'like', 'loans', 'or', 'decentralized', 'savings', 'and', 'checking', 'accounts', ',', 'where', 'banks', 'or', 'any', 'intermediary', 'is', 'irrelevant', '.', 'While', 'Bitcoin', \"'s\", 'current', 'goal', 'is', 'a', 'store', 'of', 'value', 'as', 'well', 'as', 'a', 'payment', 'system', ',', 'there', 'is', 'nothing', 'to', 'say', 'that', 'Bitcoin', 'could', 'not', 'be', 'used', 'in', 'such', 'a', 'way', 'in', 'the', 'future', ',', 'though', 'consensus', 'would', 'need', 'to', 'be', 'reached', 'to', 'add', 'these', 'systems', 'to', 'Bitcoin', '.', 'The', 'main', 'goal', 'of', 'the', 'Ethereum', 'project', 'is', 'to', 'have', 'a', 'platform', 'where', 'these', '``', 'smart', 'contracts', \"''\", 'can', 'occur', ',', 'therefore', 'creating', 'a', 'whole', 'realm', 'of', 'decentralized', 'financial', 'products', 'without', 'any', 'middlemen', 'and', 'the', 'fees', 'and', 'potential', 'data', 'breaches', 'that', 'come', 'along', 'with', 'them', '.', 'This', 'versatility', 'has', 'caught', 'the', 'eye', 'of', 'governments', 'and', 'private', 'corporations', ';', 'indeed', ',', 'some', 'analysts', 'believe', 'that', 'blockchain', 'technology', 'will', 'ultimately', 'be', 'the', 'most', 'impactful', 'aspect', 'of', 'the', 'cryptocurrency', 'craze', '.', 'In', 'Bitcoin', \"'s\", 'case', ',', 'though', ',', 'the', 'information', 'on', 'the', 'blockchain', 'is', 'mostly', 'transactions', '.', 'Bitcoin', 'is', 'really', 'just', 'a', 'list', '.', 'Person', 'A', 'sent', 'X', 'bitcoin', 'to', 'person', 'B', ',', 'who', 'sent', 'Y', 'bitcoin', 'to', 'person', 'C', ',', 'etc', '.', 'By', 'tallying', 'these', 'transactions', 'up', ',', 'everyone', 'knows', 'where', 'individual', 'users', 'stand', '.', 'It', \"'s\", 'important', 'to', 'note', 'that', 'these', 'transactions', 'do', 'not', 'necessarily', 'need', 'to', 'be', 'done', 'from', 'human', 'to', 'human', '.', 'Anything', 'can', 'access', 'and', 'use', 'the', 'Bitcoin', 'network', 'and', 'your', 'ethnicity', ',', 'gender', ',', 'religion', ',', 'species', ',', 'or', 'political', 'leaning', 'are', 'completely', 'irrelevant', '.', 'This', 'creates', 'vast', 'possibilities', 'for', 'the', 'internet', 'of', 'things', '.', 'In', 'the', 'future', ',', 'we', 'could', 'see', 'systems', 'where', 'self-driving', 'taxis', 'or', 'uber', 'vehicles', 'have', 'their', 'own', 'blockchain', 'wallets', '.', 'The', 'car', 'would', 'be', 'sent', 'cryptocurrency', 'from', 'the', 'passenger', 'and', 'would', 'not', 'move', 'until', 'funds', 'are', 'received', '.', 'The', 'vehicle', 'would', 'be', 'able', 'to', 'assess', 'when', 'it', 'needs', 'fuel', 'and', 'would', 'use', 'its', 'wallet', 'to', 'facilitate', 'a', 'refill', '.']\n"
     ]
    }
   ],
   "source": [
    "tokenized_word=word_tokenize(text)\n",
    "print(tokenized_word)"
   ]
  },
  {
   "cell_type": "markdown",
   "metadata": {},
   "source": [
    "### Frequency distribution"
   ]
  },
  {
   "cell_type": "code",
   "execution_count": 79,
   "metadata": {},
   "outputs": [],
   "source": [
    "from nltk.probability import FreqDist"
   ]
  },
  {
   "cell_type": "code",
   "execution_count": 80,
   "metadata": {},
   "outputs": [
    {
     "name": "stdout",
     "output_type": "stream",
     "text": [
      "<FreqDist with 276 samples and 537 outcomes>\n"
     ]
    }
   ],
   "source": [
    "fdist = FreqDist(tokenized_word)\n",
    "print(fdist)"
   ]
  },
  {
   "cell_type": "code",
   "execution_count": 81,
   "metadata": {},
   "outputs": [
    {
     "data": {
      "text/plain": [
       "[(',', 27), ('.', 25)]"
      ]
     },
     "execution_count": 81,
     "metadata": {},
     "output_type": "execute_result"
    }
   ],
   "source": [
    "fdist.most_common(2)"
   ]
  },
  {
   "cell_type": "code",
   "execution_count": 82,
   "metadata": {},
   "outputs": [],
   "source": [
    "import matplotlib.pyplot as plt"
   ]
  },
  {
   "cell_type": "code",
   "execution_count": 83,
   "metadata": {},
   "outputs": [
    {
     "data": {
      "image/png": "[encoded data removed]",
      "text/plain": [
       "<Figure size 432x288 with 1 Axes>"
      ]
     },
     "metadata": {
      "needs_background": "light"
     },
     "output_type": "display_data"
    }
   ],
   "source": [
    "# Frequency Distribution Plot\n",
    "\n",
    "fdist.plot(30,cumulative=False)\n",
    "plt.show()"
   ]
  },
  {
   "cell_type": "markdown",
   "metadata": {},
   "source": [
    "# NIVEL 2 / EJERCICIO 1"
   ]
  },
  {
   "cell_type": "markdown",
   "metadata": {},
   "source": [
    "### Lista standard de palabras consideradas \"ruido\""
   ]
  },
  {
   "cell_type": "code",
   "execution_count": 86,
   "metadata": {},
   "outputs": [
    {
     "name": "stderr",
     "output_type": "stream",
     "text": [
      "[nltk_data] Downloading package stopwords to\n",
      "[nltk_data]     C:\\Users\\tomi_\\AppData\\Roaming\\nltk_data...\n",
      "[nltk_data]   Unzipping corpora\\stopwords.zip.\n"
     ]
    },
    {
     "data": {
      "text/plain": [
       "True"
      ]
     },
     "execution_count": 86,
     "metadata": {},
     "output_type": "execute_result"
    }
   ],
   "source": [
    "nltk.download('stopwords')"
   ]
  },
  {
   "cell_type": "code",
   "execution_count": 87,
   "metadata": {},
   "outputs": [],
   "source": [
    "from nltk.corpus import stopwords"
   ]
  },
  {
   "cell_type": "code",
   "execution_count": 88,
   "metadata": {},
   "outputs": [
    {
     "name": "stdout",
     "output_type": "stream",
     "text": [
      "{\"won't\", 'myself', 'she', 'against', 'i', \"wouldn't\", 'very', 'how', 'whom', 'have', 'if', 'ourselves', \"aren't\", 'just', 'to', 'couldn', 'it', 'is', \"needn't\", 'do', 'shan', 'theirs', 'under', 'them', 'through', \"you'd\", 'nor', 'wasn', 've', 'being', 'weren', 'between', 'that', 'at', 'he', 'hasn', 'its', 'himself', 'now', 'few', 'before', 'each', 'the', 'for', \"don't\", \"didn't\", 'herself', 'm', \"shouldn't\", 'who', 'after', 'by', 'itself', 'once', 'such', 'has', 'of', \"isn't\", 'mightn', 'we', 'themselves', 'off', 'than', 'can', \"mightn't\", 'too', 'any', \"shan't\", \"hadn't\", \"hasn't\", 'll', \"should've\", 'be', 'shouldn', \"haven't\", \"you're\", 'needn', 'only', 'a', 'about', 'don', 'as', 'over', 'their', 'again', \"couldn't\", 'both', 'other', \"that'll\", 'further', 'some', \"mustn't\", 'during', 'all', 'own', 'will', 'while', 'you', 'yourselves', 'above', 'where', 'had', 'ma', 'me', 'o', 'they', 'below', 'an', 'yours', 'this', 'am', 'so', 'his', 'and', 'until', 'him', 'which', 'down', 'in', 'were', 'aren', \"weren't\", 'from', 'her', 'having', 'hers', 'wouldn', 'out', 'isn', 'does', 'my', 'y', 'but', \"you'll\", 'ain', 'doing', 'or', 'what', 'when', 'up', 'did', 'ours', 'are', 'was', 're', \"it's\", 'most', \"she's\", 'didn', 'won', 'why', \"you've\", 'same', 's', 'our', 'no', \"wasn't\", 'been', 'hadn', \"doesn't\", 't', 'these', 'because', 'with', 'your', 'those', 'then', 'not', 'more', 'into', 'doesn', 'here', 'on', 'mustn', 'haven', 'should', 'd', 'there', 'yourself'}\n"
     ]
    }
   ],
   "source": [
    "stop_words=set(stopwords.words(\"english\"))\n",
    "print(stop_words)"
   ]
  },
  {
   "cell_type": "markdown",
   "metadata": {},
   "source": [
    "### Removiendo palabras \"ruido\""
   ]
  },
  {
   "cell_type": "code",
   "execution_count": 90,
   "metadata": {},
   "outputs": [],
   "source": [
    "tokenized_sent = tokenized_word.copy()"
   ]
  },
  {
   "cell_type": "code",
   "execution_count": 93,
   "metadata": {},
   "outputs": [
    {
     "name": "stdout",
     "output_type": "stream",
     "text": [
      "Tokenized Sentence: ['The', 'Blockchain', 'Bitcoin', 'is', 'a', 'network', 'that', 'runs', 'on', 'a', 'protocol', 'known', 'as', 'the', 'blockchain', '.', 'A', '2008', 'paper', 'by', 'a', 'person', 'or', 'people', 'calling', 'themselves', 'Satoshi', 'Nakamoto', 'first', 'described', 'both', 'the', 'blockchain', 'and', 'Bitcoin', 'and', 'for', 'a', 'while', 'the', 'two', 'terms', 'were', 'all', 'but', 'synonymous', '.', 'The', 'blockchain\\u200b', 'has', 'since', 'evolved', 'into', 'a', 'separate', 'concept', ',', 'and', 'thousands', 'of', 'blockchains', 'have', 'been', 'created', 'using', 'similar', 'cryptographic', 'techniques', '.', 'This', 'history', 'can', 'make', 'the', 'nomenclature', 'confusing', '.', 'Blockchain', 'sometimes', 'refers', 'to', 'the', 'original', ',', 'Bitcoin', 'blockchain', '.', 'At', 'other', 'times', 'it', 'refers', 'to', 'blockchain', 'technology', 'in', 'general', ',', 'or', 'to', 'any', 'other', 'specific', 'blockchain', ',', 'such', 'as', 'the', 'one', 'that', 'powers', 'Ethereum\\u200b', '.', 'The', 'basics', 'of', 'blockchain', 'technology', 'are', 'mercifully', 'straightforward', '.', 'Any', 'given', 'blockchain', 'consists', 'of', 'a', 'single', 'chain', 'of', 'discrete', 'blocks', 'of', 'information', ',', 'arranged', 'chronologically', '.', 'In', 'principle', 'this', 'information', 'can', 'be', 'any', 'string', 'of', '1s', 'and', '0s', ',', 'meaning', 'it', 'could', 'include', 'emails', ',', 'contracts', ',', 'land', 'titles', ',', 'marriage', 'certificates', ',', 'or', 'bond', 'trades', '.', 'In', 'theory', ',', 'any', 'type', 'of', 'contract', 'between', 'two', 'parties', 'can', 'be', 'established', 'on', 'a', 'blockchain', 'as', 'long', 'as', 'both', 'parties', 'agree', 'on', 'the', 'contract', '.', 'This', 'takes', 'away', 'any', 'need', 'for', 'a', 'third', 'party', 'to', 'be', 'involved', 'in', 'any', 'contract', '.', 'This', 'opens', 'a', 'world', 'of', 'possibilities', 'including', 'peer-to-peer', 'financial', 'products', ',', 'like', 'loans', 'or', 'decentralized', 'savings', 'and', 'checking', 'accounts', ',', 'where', 'banks', 'or', 'any', 'intermediary', 'is', 'irrelevant', '.', 'While', 'Bitcoin', \"'s\", 'current', 'goal', 'is', 'a', 'store', 'of', 'value', 'as', 'well', 'as', 'a', 'payment', 'system', ',', 'there', 'is', 'nothing', 'to', 'say', 'that', 'Bitcoin', 'could', 'not', 'be', 'used', 'in', 'such', 'a', 'way', 'in', 'the', 'future', ',', 'though', 'consensus', 'would', 'need', 'to', 'be', 'reached', 'to', 'add', 'these', 'systems', 'to', 'Bitcoin', '.', 'The', 'main', 'goal', 'of', 'the', 'Ethereum', 'project', 'is', 'to', 'have', 'a', 'platform', 'where', 'these', '``', 'smart', 'contracts', \"''\", 'can', 'occur', ',', 'therefore', 'creating', 'a', 'whole', 'realm', 'of', 'decentralized', 'financial', 'products', 'without', 'any', 'middlemen', 'and', 'the', 'fees', 'and', 'potential', 'data', 'breaches', 'that', 'come', 'along', 'with', 'them', '.', 'This', 'versatility', 'has', 'caught', 'the', 'eye', 'of', 'governments', 'and', 'private', 'corporations', ';', 'indeed', ',', 'some', 'analysts', 'believe', 'that', 'blockchain', 'technology', 'will', 'ultimately', 'be', 'the', 'most', 'impactful', 'aspect', 'of', 'the', 'cryptocurrency', 'craze', '.', 'In', 'Bitcoin', \"'s\", 'case', ',', 'though', ',', 'the', 'information', 'on', 'the', 'blockchain', 'is', 'mostly', 'transactions', '.', 'Bitcoin', 'is', 'really', 'just', 'a', 'list', '.', 'Person', 'A', 'sent', 'X', 'bitcoin', 'to', 'person', 'B', ',', 'who', 'sent', 'Y', 'bitcoin', 'to', 'person', 'C', ',', 'etc', '.', 'By', 'tallying', 'these', 'transactions', 'up', ',', 'everyone', 'knows', 'where', 'individual', 'users', 'stand', '.', 'It', \"'s\", 'important', 'to', 'note', 'that', 'these', 'transactions', 'do', 'not', 'necessarily', 'need', 'to', 'be', 'done', 'from', 'human', 'to', 'human', '.', 'Anything', 'can', 'access', 'and', 'use', 'the', 'Bitcoin', 'network', 'and', 'your', 'ethnicity', ',', 'gender', ',', 'religion', ',', 'species', ',', 'or', 'political', 'leaning', 'are', 'completely', 'irrelevant', '.', 'This', 'creates', 'vast', 'possibilities', 'for', 'the', 'internet', 'of', 'things', '.', 'In', 'the', 'future', ',', 'we', 'could', 'see', 'systems', 'where', 'self-driving', 'taxis', 'or', 'uber', 'vehicles', 'have', 'their', 'own', 'blockchain', 'wallets', '.', 'The', 'car', 'would', 'be', 'sent', 'cryptocurrency', 'from', 'the', 'passenger', 'and', 'would', 'not', 'move', 'until', 'funds', 'are', 'received', '.', 'The', 'vehicle', 'would', 'be', 'able', 'to', 'assess', 'when', 'it', 'needs', 'fuel', 'and', 'would', 'use', 'its', 'wallet', 'to', 'facilitate', 'a', 'refill', '.']\n",
      "----------\n",
      "----------\n",
      "----------\n",
      "Filterd Sentence: ['The', 'Blockchain', 'Bitcoin', 'network', 'runs', 'protocol', 'known', 'blockchain', '.', 'A', '2008', 'paper', 'person', 'people', 'calling', 'Satoshi', 'Nakamoto', 'first', 'described', 'blockchain', 'Bitcoin', 'two', 'terms', 'synonymous', '.', 'The', 'blockchain\\u200b', 'since', 'evolved', 'separate', 'concept', ',', 'thousands', 'blockchains', 'created', 'using', 'similar', 'cryptographic', 'techniques', '.', 'This', 'history', 'make', 'nomenclature', 'confusing', '.', 'Blockchain', 'sometimes', 'refers', 'original', ',', 'Bitcoin', 'blockchain', '.', 'At', 'times', 'refers', 'blockchain', 'technology', 'general', ',', 'specific', 'blockchain', ',', 'one', 'powers', 'Ethereum\\u200b', '.', 'The', 'basics', 'blockchain', 'technology', 'mercifully', 'straightforward', '.', 'Any', 'given', 'blockchain', 'consists', 'single', 'chain', 'discrete', 'blocks', 'information', ',', 'arranged', 'chronologically', '.', 'In', 'principle', 'information', 'string', '1s', '0s', ',', 'meaning', 'could', 'include', 'emails', ',', 'contracts', ',', 'land', 'titles', ',', 'marriage', 'certificates', ',', 'bond', 'trades', '.', 'In', 'theory', ',', 'type', 'contract', 'two', 'parties', 'established', 'blockchain', 'long', 'parties', 'agree', 'contract', '.', 'This', 'takes', 'away', 'need', 'third', 'party', 'involved', 'contract', '.', 'This', 'opens', 'world', 'possibilities', 'including', 'peer-to-peer', 'financial', 'products', ',', 'like', 'loans', 'decentralized', 'savings', 'checking', 'accounts', ',', 'banks', 'intermediary', 'irrelevant', '.', 'While', 'Bitcoin', \"'s\", 'current', 'goal', 'store', 'value', 'well', 'payment', 'system', ',', 'nothing', 'say', 'Bitcoin', 'could', 'used', 'way', 'future', ',', 'though', 'consensus', 'would', 'need', 'reached', 'add', 'systems', 'Bitcoin', '.', 'The', 'main', 'goal', 'Ethereum', 'project', 'platform', '``', 'smart', 'contracts', \"''\", 'occur', ',', 'therefore', 'creating', 'whole', 'realm', 'decentralized', 'financial', 'products', 'without', 'middlemen', 'fees', 'potential', 'data', 'breaches', 'come', 'along', '.', 'This', 'versatility', 'caught', 'eye', 'governments', 'private', 'corporations', ';', 'indeed', ',', 'analysts', 'believe', 'blockchain', 'technology', 'ultimately', 'impactful', 'aspect', 'cryptocurrency', 'craze', '.', 'In', 'Bitcoin', \"'s\", 'case', ',', 'though', ',', 'information', 'blockchain', 'mostly', 'transactions', '.', 'Bitcoin', 'really', 'list', '.', 'Person', 'A', 'sent', 'X', 'bitcoin', 'person', 'B', ',', 'sent', 'Y', 'bitcoin', 'person', 'C', ',', 'etc', '.', 'By', 'tallying', 'transactions', ',', 'everyone', 'knows', 'individual', 'users', 'stand', '.', 'It', \"'s\", 'important', 'note', 'transactions', 'necessarily', 'need', 'done', 'human', 'human', '.', 'Anything', 'access', 'use', 'Bitcoin', 'network', 'ethnicity', ',', 'gender', ',', 'religion', ',', 'species', ',', 'political', 'leaning', 'completely', 'irrelevant', '.', 'This', 'creates', 'vast', 'possibilities', 'internet', 'things', '.', 'In', 'future', ',', 'could', 'see', 'systems', 'self-driving', 'taxis', 'uber', 'vehicles', 'blockchain', 'wallets', '.', 'The', 'car', 'would', 'sent', 'cryptocurrency', 'passenger', 'would', 'move', 'funds', 'received', '.', 'The', 'vehicle', 'would', 'able', 'assess', 'needs', 'fuel', 'would', 'use', 'wallet', 'facilitate', 'refill', '.']\n"
     ]
    }
   ],
   "source": [
    "filtered_sent=[]\n",
    "for w in tokenized_sent:\n",
    "    if w not in stop_words:\n",
    "        filtered_sent.append(w)\n",
    "print(\"Tokenized Sentence:\",tokenized_sent)\n",
    "print('----------')\n",
    "print('----------')\n",
    "print('----------')\n",
    "print(\"Filterd Sentence:\",filtered_sent)"
   ]
  },
  {
   "cell_type": "code",
   "execution_count": 97,
   "metadata": {},
   "outputs": [
    {
     "name": "stdout",
     "output_type": "stream",
     "text": [
      "La cantidad de palabras original es de  537\n",
      "La cantidad de palabras filtrada por ruido es de  345\n"
     ]
    }
   ],
   "source": [
    "print('La cantidad de palabras original es de ' ,len(tokenized_sent))\n",
    "print('La cantidad de palabras filtrada por ruido es de ' ,len(filtered_sent))"
   ]
  },
  {
   "cell_type": "markdown",
   "metadata": {},
   "source": [
    "### Stemming: reducción de palabras a palabra de raiz o base"
   ]
  },
  {
   "cell_type": "code",
   "execution_count": 103,
   "metadata": {},
   "outputs": [
    {
     "name": "stdout",
     "output_type": "stream",
     "text": [
      "Filtered Sentence: ['The', 'Blockchain', 'Bitcoin', 'network', 'runs', 'protocol', 'known', 'blockchain', '.', 'A', '2008', 'paper', 'person', 'people', 'calling', 'Satoshi', 'Nakamoto', 'first', 'described', 'blockchain', 'Bitcoin', 'two', 'terms', 'synonymous', '.', 'The', 'blockchain\\u200b', 'since', 'evolved', 'separate', 'concept', ',', 'thousands', 'blockchains', 'created', 'using', 'similar', 'cryptographic', 'techniques', '.', 'This', 'history', 'make', 'nomenclature', 'confusing', '.', 'Blockchain', 'sometimes', 'refers', 'original', ',', 'Bitcoin', 'blockchain', '.', 'At', 'times', 'refers', 'blockchain', 'technology', 'general', ',', 'specific', 'blockchain', ',', 'one', 'powers', 'Ethereum\\u200b', '.', 'The', 'basics', 'blockchain', 'technology', 'mercifully', 'straightforward', '.', 'Any', 'given', 'blockchain', 'consists', 'single', 'chain', 'discrete', 'blocks', 'information', ',', 'arranged', 'chronologically', '.', 'In', 'principle', 'information', 'string', '1s', '0s', ',', 'meaning', 'could', 'include', 'emails', ',', 'contracts', ',', 'land', 'titles', ',', 'marriage', 'certificates', ',', 'bond', 'trades', '.', 'In', 'theory', ',', 'type', 'contract', 'two', 'parties', 'established', 'blockchain', 'long', 'parties', 'agree', 'contract', '.', 'This', 'takes', 'away', 'need', 'third', 'party', 'involved', 'contract', '.', 'This', 'opens', 'world', 'possibilities', 'including', 'peer-to-peer', 'financial', 'products', ',', 'like', 'loans', 'decentralized', 'savings', 'checking', 'accounts', ',', 'banks', 'intermediary', 'irrelevant', '.', 'While', 'Bitcoin', \"'s\", 'current', 'goal', 'store', 'value', 'well', 'payment', 'system', ',', 'nothing', 'say', 'Bitcoin', 'could', 'used', 'way', 'future', ',', 'though', 'consensus', 'would', 'need', 'reached', 'add', 'systems', 'Bitcoin', '.', 'The', 'main', 'goal', 'Ethereum', 'project', 'platform', '``', 'smart', 'contracts', \"''\", 'occur', ',', 'therefore', 'creating', 'whole', 'realm', 'decentralized', 'financial', 'products', 'without', 'middlemen', 'fees', 'potential', 'data', 'breaches', 'come', 'along', '.', 'This', 'versatility', 'caught', 'eye', 'governments', 'private', 'corporations', ';', 'indeed', ',', 'analysts', 'believe', 'blockchain', 'technology', 'ultimately', 'impactful', 'aspect', 'cryptocurrency', 'craze', '.', 'In', 'Bitcoin', \"'s\", 'case', ',', 'though', ',', 'information', 'blockchain', 'mostly', 'transactions', '.', 'Bitcoin', 'really', 'list', '.', 'Person', 'A', 'sent', 'X', 'bitcoin', 'person', 'B', ',', 'sent', 'Y', 'bitcoin', 'person', 'C', ',', 'etc', '.', 'By', 'tallying', 'transactions', ',', 'everyone', 'knows', 'individual', 'users', 'stand', '.', 'It', \"'s\", 'important', 'note', 'transactions', 'necessarily', 'need', 'done', 'human', 'human', '.', 'Anything', 'access', 'use', 'Bitcoin', 'network', 'ethnicity', ',', 'gender', ',', 'religion', ',', 'species', ',', 'political', 'leaning', 'completely', 'irrelevant', '.', 'This', 'creates', 'vast', 'possibilities', 'internet', 'things', '.', 'In', 'future', ',', 'could', 'see', 'systems', 'self-driving', 'taxis', 'uber', 'vehicles', 'blockchain', 'wallets', '.', 'The', 'car', 'would', 'sent', 'cryptocurrency', 'passenger', 'would', 'move', 'funds', 'received', '.', 'The', 'vehicle', 'would', 'able', 'assess', 'needs', 'fuel', 'would', 'use', 'wallet', 'facilitate', 'refill', '.']\n",
      "-------------------------------\n",
      "-------------------------------\n",
      "-------------------------------\n",
      "Stemmed Sentence: ['the', 'blockchain', 'bitcoin', 'network', 'run', 'protocol', 'known', 'blockchain', '.', 'A', '2008', 'paper', 'person', 'peopl', 'call', 'satoshi', 'nakamoto', 'first', 'describ', 'blockchain', 'bitcoin', 'two', 'term', 'synonym', '.', 'the', 'blockchain\\u200b', 'sinc', 'evolv', 'separ', 'concept', ',', 'thousand', 'blockchain', 'creat', 'use', 'similar', 'cryptograph', 'techniqu', '.', 'thi', 'histori', 'make', 'nomenclatur', 'confus', '.', 'blockchain', 'sometim', 'refer', 'origin', ',', 'bitcoin', 'blockchain', '.', 'At', 'time', 'refer', 'blockchain', 'technolog', 'gener', ',', 'specif', 'blockchain', ',', 'one', 'power', 'ethereum\\u200b', '.', 'the', 'basic', 'blockchain', 'technolog', 'merci', 'straightforward', '.', 'ani', 'given', 'blockchain', 'consist', 'singl', 'chain', 'discret', 'block', 'inform', ',', 'arrang', 'chronolog', '.', 'In', 'principl', 'inform', 'string', '1s', '0s', ',', 'mean', 'could', 'includ', 'email', ',', 'contract', ',', 'land', 'titl', ',', 'marriag', 'certif', ',', 'bond', 'trade', '.', 'In', 'theori', ',', 'type', 'contract', 'two', 'parti', 'establish', 'blockchain', 'long', 'parti', 'agre', 'contract', '.', 'thi', 'take', 'away', 'need', 'third', 'parti', 'involv', 'contract', '.', 'thi', 'open', 'world', 'possibl', 'includ', 'peer-to-p', 'financi', 'product', ',', 'like', 'loan', 'decentr', 'save', 'check', 'account', ',', 'bank', 'intermediari', 'irrelev', '.', 'while', 'bitcoin', \"'s\", 'current', 'goal', 'store', 'valu', 'well', 'payment', 'system', ',', 'noth', 'say', 'bitcoin', 'could', 'use', 'way', 'futur', ',', 'though', 'consensu', 'would', 'need', 'reach', 'add', 'system', 'bitcoin', '.', 'the', 'main', 'goal', 'ethereum', 'project', 'platform', '``', 'smart', 'contract', \"''\", 'occur', ',', 'therefor', 'creat', 'whole', 'realm', 'decentr', 'financi', 'product', 'without', 'middlemen', 'fee', 'potenti', 'data', 'breach', 'come', 'along', '.', 'thi', 'versatil', 'caught', 'eye', 'govern', 'privat', 'corpor', ';', 'inde', ',', 'analyst', 'believ', 'blockchain', 'technolog', 'ultim', 'impact', 'aspect', 'cryptocurr', 'craze', '.', 'In', 'bitcoin', \"'s\", 'case', ',', 'though', ',', 'inform', 'blockchain', 'mostli', 'transact', '.', 'bitcoin', 'realli', 'list', '.', 'person', 'A', 'sent', 'X', 'bitcoin', 'person', 'B', ',', 'sent', 'Y', 'bitcoin', 'person', 'C', ',', 'etc', '.', 'By', 'talli', 'transact', ',', 'everyon', 'know', 'individu', 'user', 'stand', '.', 'It', \"'s\", 'import', 'note', 'transact', 'necessarili', 'need', 'done', 'human', 'human', '.', 'anyth', 'access', 'use', 'bitcoin', 'network', 'ethnic', ',', 'gender', ',', 'religion', ',', 'speci', ',', 'polit', 'lean', 'complet', 'irrelev', '.', 'thi', 'creat', 'vast', 'possibl', 'internet', 'thing', '.', 'In', 'futur', ',', 'could', 'see', 'system', 'self-driv', 'taxi', 'uber', 'vehicl', 'blockchain', 'wallet', '.', 'the', 'car', 'would', 'sent', 'cryptocurr', 'passeng', 'would', 'move', 'fund', 'receiv', '.', 'the', 'vehicl', 'would', 'abl', 'assess', 'need', 'fuel', 'would', 'use', 'wallet', 'facilit', 'refil', '.']\n",
      "-------------------------------\n",
      "-------------------------------\n",
      "-------------------------------\n",
      "La frecuencia de palabras para el párrafo filtrado es  <FreqDist with 223 samples and 345 outcomes>\n",
      "La frecuencia de palabras para el párrafo Stemmeado es  <FreqDist with 208 samples and 345 outcomes>\n"
     ]
    }
   ],
   "source": [
    "# Stemming\n",
    "from nltk.stem import PorterStemmer\n",
    "from nltk.tokenize import sent_tokenize, word_tokenize\n",
    "\n",
    "ps = PorterStemmer()\n",
    "\n",
    "stemmed_words=[]\n",
    "for w in filtered_sent:\n",
    "    stemmed_words.append(ps.stem(w))\n",
    "\n",
    "print(\"Filtered Sentence:\",filtered_sent)\n",
    "print('-------------------------------')\n",
    "print('-------------------------------')\n",
    "print('-------------------------------')\n",
    "print(\"Stemmed Sentence:\",stemmed_words)\n",
    "print('-------------------------------')\n",
    "print('-------------------------------')\n",
    "print('-------------------------------')\n",
    "\n",
    "fdist_filtered = FreqDist(filtered_sent)\n",
    "print('La frecuencia de palabras para el párrafo filtrado es ' ,fdist_filtered)\n",
    "\n",
    "fdist_stemmed = FreqDist(stemmed_words)\n",
    "print('La frecuencia de palabras para el párrafo Stemmeado es ' ,fdist_stemmed)"
   ]
  }
 ],
 "metadata": {
  "kernelspec": {
   "display_name": "Python 3",
   "language": "python",
   "name": "python3"
  },
  "language_info": {
   "codemirror_mode": {
    "name": "ipython",
    "version": 3
   },
   "file_extension": ".py",
   "mimetype": "text/x-python",
   "name": "python",
   "nbconvert_exporter": "python",
   "pygments_lexer": "ipython3",
   "version": "3.7.4"
  }
 },
 "nbformat": 4,
 "nbformat_minor": 2
}
